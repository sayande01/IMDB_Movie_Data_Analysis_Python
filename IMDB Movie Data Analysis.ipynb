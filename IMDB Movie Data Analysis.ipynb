{
 "cells": [
  {
   "cell_type": "markdown",
   "metadata": {},
   "source": [
    "# IMDB Movie Data Analysis"
   ]
  },
  {
   "cell_type": "code",
   "execution_count": 146,
   "metadata": {},
   "outputs": [],
   "source": [
    "import pandas as pd\n",
    "import seaborn as sns\n",
    "import matplotlib.pyplot as plt\n",
    "import warnings\n",
    "warnings.filterwarnings('ignore')"
   ]
  },
  {
   "cell_type": "code",
   "execution_count": 147,
   "metadata": {},
   "outputs": [],
   "source": [
    "data = pd.read_csv('IMDB.csv')"
   ]
  },
  {
   "cell_type": "code",
   "execution_count": 148,
   "metadata": {},
   "outputs": [],
   "source": [
    "sns.set()"
   ]
  },
  {
   "cell_type": "markdown",
   "metadata": {},
   "source": [
    "### 1. Display Top 10 Rows of The Dataset"
   ]
  },
  {
   "cell_type": "code",
   "execution_count": 149,
   "metadata": {},
   "outputs": [
    {
     "data": {
      "text/html": [
       "<div>\n",
       "<style scoped>\n",
       "    .dataframe tbody tr th:only-of-type {\n",
       "        vertical-align: middle;\n",
       "    }\n",
       "\n",
       "    .dataframe tbody tr th {\n",
       "        vertical-align: top;\n",
       "    }\n",
       "\n",
       "    .dataframe thead th {\n",
       "        text-align: right;\n",
       "    }\n",
       "</style>\n",
       "<table border=\"1\" class=\"dataframe\">\n",
       "  <thead>\n",
       "    <tr style=\"text-align: right;\">\n",
       "      <th></th>\n",
       "      <th>Rank</th>\n",
       "      <th>Title</th>\n",
       "      <th>Genre</th>\n",
       "      <th>Description</th>\n",
       "      <th>Director</th>\n",
       "      <th>Actors</th>\n",
       "      <th>Year</th>\n",
       "      <th>Runtime (Minutes)</th>\n",
       "      <th>Rating</th>\n",
       "      <th>Votes</th>\n",
       "      <th>Revenue (Millions)</th>\n",
       "      <th>Metascore</th>\n",
       "    </tr>\n",
       "  </thead>\n",
       "  <tbody>\n",
       "    <tr>\n",
       "      <th>0</th>\n",
       "      <td>1</td>\n",
       "      <td>Guardians of the Galaxy</td>\n",
       "      <td>Action,Adventure,Sci-Fi</td>\n",
       "      <td>A group of intergalactic criminals are forced ...</td>\n",
       "      <td>James Gunn</td>\n",
       "      <td>Chris Pratt, Vin Diesel, Bradley Cooper, Zoe S...</td>\n",
       "      <td>2014</td>\n",
       "      <td>121</td>\n",
       "      <td>8.1</td>\n",
       "      <td>757074</td>\n",
       "      <td>333.13</td>\n",
       "      <td>76.0</td>\n",
       "    </tr>\n",
       "    <tr>\n",
       "      <th>1</th>\n",
       "      <td>2</td>\n",
       "      <td>Prometheus</td>\n",
       "      <td>Adventure,Mystery,Sci-Fi</td>\n",
       "      <td>Following clues to the origin of mankind, a te...</td>\n",
       "      <td>Ridley Scott</td>\n",
       "      <td>Noomi Rapace, Logan Marshall-Green, Michael Fa...</td>\n",
       "      <td>2012</td>\n",
       "      <td>124</td>\n",
       "      <td>7.0</td>\n",
       "      <td>485820</td>\n",
       "      <td>126.46</td>\n",
       "      <td>65.0</td>\n",
       "    </tr>\n",
       "    <tr>\n",
       "      <th>2</th>\n",
       "      <td>3</td>\n",
       "      <td>Split</td>\n",
       "      <td>Horror,Thriller</td>\n",
       "      <td>Three girls are kidnapped by a man with a diag...</td>\n",
       "      <td>M. Night Shyamalan</td>\n",
       "      <td>James McAvoy, Anya Taylor-Joy, Haley Lu Richar...</td>\n",
       "      <td>2016</td>\n",
       "      <td>117</td>\n",
       "      <td>7.3</td>\n",
       "      <td>157606</td>\n",
       "      <td>138.12</td>\n",
       "      <td>62.0</td>\n",
       "    </tr>\n",
       "    <tr>\n",
       "      <th>3</th>\n",
       "      <td>4</td>\n",
       "      <td>Sing</td>\n",
       "      <td>Animation,Comedy,Family</td>\n",
       "      <td>In a city of humanoid animals, a hustling thea...</td>\n",
       "      <td>Christophe Lourdelet</td>\n",
       "      <td>Matthew McConaughey,Reese Witherspoon, Seth Ma...</td>\n",
       "      <td>2016</td>\n",
       "      <td>108</td>\n",
       "      <td>7.2</td>\n",
       "      <td>60545</td>\n",
       "      <td>270.32</td>\n",
       "      <td>59.0</td>\n",
       "    </tr>\n",
       "    <tr>\n",
       "      <th>4</th>\n",
       "      <td>5</td>\n",
       "      <td>Suicide Squad</td>\n",
       "      <td>Action,Adventure,Fantasy</td>\n",
       "      <td>A secret government agency recruits some of th...</td>\n",
       "      <td>David Ayer</td>\n",
       "      <td>Will Smith, Jared Leto, Margot Robbie, Viola D...</td>\n",
       "      <td>2016</td>\n",
       "      <td>123</td>\n",
       "      <td>6.2</td>\n",
       "      <td>393727</td>\n",
       "      <td>325.02</td>\n",
       "      <td>40.0</td>\n",
       "    </tr>\n",
       "    <tr>\n",
       "      <th>5</th>\n",
       "      <td>6</td>\n",
       "      <td>The Great Wall</td>\n",
       "      <td>Action,Adventure,Fantasy</td>\n",
       "      <td>European mercenaries searching for black powde...</td>\n",
       "      <td>Yimou Zhang</td>\n",
       "      <td>Matt Damon, Tian Jing, Willem Dafoe, Andy Lau</td>\n",
       "      <td>2016</td>\n",
       "      <td>103</td>\n",
       "      <td>6.1</td>\n",
       "      <td>56036</td>\n",
       "      <td>45.13</td>\n",
       "      <td>42.0</td>\n",
       "    </tr>\n",
       "    <tr>\n",
       "      <th>6</th>\n",
       "      <td>7</td>\n",
       "      <td>La La Land</td>\n",
       "      <td>Comedy,Drama,Music</td>\n",
       "      <td>A jazz pianist falls for an aspiring actress i...</td>\n",
       "      <td>Damien Chazelle</td>\n",
       "      <td>Ryan Gosling, Emma Stone, Rosemarie DeWitt, J....</td>\n",
       "      <td>2016</td>\n",
       "      <td>128</td>\n",
       "      <td>8.3</td>\n",
       "      <td>258682</td>\n",
       "      <td>151.06</td>\n",
       "      <td>93.0</td>\n",
       "    </tr>\n",
       "    <tr>\n",
       "      <th>7</th>\n",
       "      <td>8</td>\n",
       "      <td>Mindhorn</td>\n",
       "      <td>Comedy</td>\n",
       "      <td>A has-been actor best known for playing the ti...</td>\n",
       "      <td>Sean Foley</td>\n",
       "      <td>Essie Davis, Andrea Riseborough, Julian Barrat...</td>\n",
       "      <td>2016</td>\n",
       "      <td>89</td>\n",
       "      <td>6.4</td>\n",
       "      <td>2490</td>\n",
       "      <td>NaN</td>\n",
       "      <td>71.0</td>\n",
       "    </tr>\n",
       "    <tr>\n",
       "      <th>8</th>\n",
       "      <td>9</td>\n",
       "      <td>The Lost City of Z</td>\n",
       "      <td>Action,Adventure,Biography</td>\n",
       "      <td>A true-life drama, centering on British explor...</td>\n",
       "      <td>James Gray</td>\n",
       "      <td>Charlie Hunnam, Robert Pattinson, Sienna Mille...</td>\n",
       "      <td>2016</td>\n",
       "      <td>141</td>\n",
       "      <td>7.1</td>\n",
       "      <td>7188</td>\n",
       "      <td>8.01</td>\n",
       "      <td>78.0</td>\n",
       "    </tr>\n",
       "    <tr>\n",
       "      <th>9</th>\n",
       "      <td>10</td>\n",
       "      <td>Passengers</td>\n",
       "      <td>Adventure,Drama,Romance</td>\n",
       "      <td>A spacecraft traveling to a distant colony pla...</td>\n",
       "      <td>Morten Tyldum</td>\n",
       "      <td>Jennifer Lawrence, Chris Pratt, Michael Sheen,...</td>\n",
       "      <td>2016</td>\n",
       "      <td>116</td>\n",
       "      <td>7.0</td>\n",
       "      <td>192177</td>\n",
       "      <td>100.01</td>\n",
       "      <td>41.0</td>\n",
       "    </tr>\n",
       "  </tbody>\n",
       "</table>\n",
       "</div>"
      ],
      "text/plain": [
       "   Rank                    Title                       Genre  \\\n",
       "0     1  Guardians of the Galaxy     Action,Adventure,Sci-Fi   \n",
       "1     2               Prometheus    Adventure,Mystery,Sci-Fi   \n",
       "2     3                    Split             Horror,Thriller   \n",
       "3     4                     Sing     Animation,Comedy,Family   \n",
       "4     5            Suicide Squad    Action,Adventure,Fantasy   \n",
       "5     6           The Great Wall    Action,Adventure,Fantasy   \n",
       "6     7               La La Land          Comedy,Drama,Music   \n",
       "7     8                 Mindhorn                      Comedy   \n",
       "8     9       The Lost City of Z  Action,Adventure,Biography   \n",
       "9    10               Passengers     Adventure,Drama,Romance   \n",
       "\n",
       "                                         Description              Director  \\\n",
       "0  A group of intergalactic criminals are forced ...            James Gunn   \n",
       "1  Following clues to the origin of mankind, a te...          Ridley Scott   \n",
       "2  Three girls are kidnapped by a man with a diag...    M. Night Shyamalan   \n",
       "3  In a city of humanoid animals, a hustling thea...  Christophe Lourdelet   \n",
       "4  A secret government agency recruits some of th...            David Ayer   \n",
       "5  European mercenaries searching for black powde...           Yimou Zhang   \n",
       "6  A jazz pianist falls for an aspiring actress i...       Damien Chazelle   \n",
       "7  A has-been actor best known for playing the ti...            Sean Foley   \n",
       "8  A true-life drama, centering on British explor...            James Gray   \n",
       "9  A spacecraft traveling to a distant colony pla...         Morten Tyldum   \n",
       "\n",
       "                                              Actors  Year  Runtime (Minutes)  \\\n",
       "0  Chris Pratt, Vin Diesel, Bradley Cooper, Zoe S...  2014                121   \n",
       "1  Noomi Rapace, Logan Marshall-Green, Michael Fa...  2012                124   \n",
       "2  James McAvoy, Anya Taylor-Joy, Haley Lu Richar...  2016                117   \n",
       "3  Matthew McConaughey,Reese Witherspoon, Seth Ma...  2016                108   \n",
       "4  Will Smith, Jared Leto, Margot Robbie, Viola D...  2016                123   \n",
       "5      Matt Damon, Tian Jing, Willem Dafoe, Andy Lau  2016                103   \n",
       "6  Ryan Gosling, Emma Stone, Rosemarie DeWitt, J....  2016                128   \n",
       "7  Essie Davis, Andrea Riseborough, Julian Barrat...  2016                 89   \n",
       "8  Charlie Hunnam, Robert Pattinson, Sienna Mille...  2016                141   \n",
       "9  Jennifer Lawrence, Chris Pratt, Michael Sheen,...  2016                116   \n",
       "\n",
       "   Rating   Votes  Revenue (Millions)  Metascore  \n",
       "0     8.1  757074              333.13       76.0  \n",
       "1     7.0  485820              126.46       65.0  \n",
       "2     7.3  157606              138.12       62.0  \n",
       "3     7.2   60545              270.32       59.0  \n",
       "4     6.2  393727              325.02       40.0  \n",
       "5     6.1   56036               45.13       42.0  \n",
       "6     8.3  258682              151.06       93.0  \n",
       "7     6.4    2490                 NaN       71.0  \n",
       "8     7.1    7188                8.01       78.0  \n",
       "9     7.0  192177              100.01       41.0  "
      ]
     },
     "execution_count": 149,
     "metadata": {},
     "output_type": "execute_result"
    }
   ],
   "source": [
    "data.head(10)"
   ]
  },
  {
   "cell_type": "markdown",
   "metadata": {},
   "source": [
    "### 2. Check Last 10 Rows of The Dataset"
   ]
  },
  {
   "cell_type": "code",
   "execution_count": 150,
   "metadata": {},
   "outputs": [
    {
     "data": {
      "text/html": [
       "<div>\n",
       "<style scoped>\n",
       "    .dataframe tbody tr th:only-of-type {\n",
       "        vertical-align: middle;\n",
       "    }\n",
       "\n",
       "    .dataframe tbody tr th {\n",
       "        vertical-align: top;\n",
       "    }\n",
       "\n",
       "    .dataframe thead th {\n",
       "        text-align: right;\n",
       "    }\n",
       "</style>\n",
       "<table border=\"1\" class=\"dataframe\">\n",
       "  <thead>\n",
       "    <tr style=\"text-align: right;\">\n",
       "      <th></th>\n",
       "      <th>Rank</th>\n",
       "      <th>Title</th>\n",
       "      <th>Genre</th>\n",
       "      <th>Description</th>\n",
       "      <th>Director</th>\n",
       "      <th>Actors</th>\n",
       "      <th>Year</th>\n",
       "      <th>Runtime (Minutes)</th>\n",
       "      <th>Rating</th>\n",
       "      <th>Votes</th>\n",
       "      <th>Revenue (Millions)</th>\n",
       "      <th>Metascore</th>\n",
       "    </tr>\n",
       "  </thead>\n",
       "  <tbody>\n",
       "    <tr>\n",
       "      <th>990</th>\n",
       "      <td>991</td>\n",
       "      <td>Underworld: Rise of the Lycans</td>\n",
       "      <td>Action,Adventure,Fantasy</td>\n",
       "      <td>An origins story centered on the centuries-old...</td>\n",
       "      <td>Patrick Tatopoulos</td>\n",
       "      <td>Rhona Mitra, Michael Sheen, Bill Nighy, Steven...</td>\n",
       "      <td>2009</td>\n",
       "      <td>92</td>\n",
       "      <td>6.6</td>\n",
       "      <td>129708</td>\n",
       "      <td>45.80</td>\n",
       "      <td>44.0</td>\n",
       "    </tr>\n",
       "    <tr>\n",
       "      <th>991</th>\n",
       "      <td>992</td>\n",
       "      <td>Taare Zameen Par</td>\n",
       "      <td>Drama,Family,Music</td>\n",
       "      <td>An eight-year-old boy is thought to be a lazy ...</td>\n",
       "      <td>Aamir Khan</td>\n",
       "      <td>Darsheel Safary, Aamir Khan, Tanay Chheda, Sac...</td>\n",
       "      <td>2007</td>\n",
       "      <td>165</td>\n",
       "      <td>8.5</td>\n",
       "      <td>102697</td>\n",
       "      <td>1.20</td>\n",
       "      <td>42.0</td>\n",
       "    </tr>\n",
       "    <tr>\n",
       "      <th>992</th>\n",
       "      <td>993</td>\n",
       "      <td>Take Me Home Tonight</td>\n",
       "      <td>Comedy,Drama,Romance</td>\n",
       "      <td>Four years after graduation, an awkward high s...</td>\n",
       "      <td>Michael Dowse</td>\n",
       "      <td>Topher Grace, Anna Faris, Dan Fogler, Teresa P...</td>\n",
       "      <td>2011</td>\n",
       "      <td>97</td>\n",
       "      <td>6.3</td>\n",
       "      <td>45419</td>\n",
       "      <td>6.92</td>\n",
       "      <td>NaN</td>\n",
       "    </tr>\n",
       "    <tr>\n",
       "      <th>993</th>\n",
       "      <td>994</td>\n",
       "      <td>Resident Evil: Afterlife</td>\n",
       "      <td>Action,Adventure,Horror</td>\n",
       "      <td>While still out to destroy the evil Umbrella C...</td>\n",
       "      <td>Paul W.S. Anderson</td>\n",
       "      <td>Milla Jovovich, Ali Larter, Wentworth Miller,K...</td>\n",
       "      <td>2010</td>\n",
       "      <td>97</td>\n",
       "      <td>5.9</td>\n",
       "      <td>140900</td>\n",
       "      <td>60.13</td>\n",
       "      <td>37.0</td>\n",
       "    </tr>\n",
       "    <tr>\n",
       "      <th>994</th>\n",
       "      <td>995</td>\n",
       "      <td>Project X</td>\n",
       "      <td>Comedy</td>\n",
       "      <td>3 high school seniors throw a birthday party t...</td>\n",
       "      <td>Nima Nourizadeh</td>\n",
       "      <td>Thomas Mann, Oliver Cooper, Jonathan Daniel Br...</td>\n",
       "      <td>2012</td>\n",
       "      <td>88</td>\n",
       "      <td>6.7</td>\n",
       "      <td>164088</td>\n",
       "      <td>54.72</td>\n",
       "      <td>48.0</td>\n",
       "    </tr>\n",
       "    <tr>\n",
       "      <th>995</th>\n",
       "      <td>996</td>\n",
       "      <td>Secret in Their Eyes</td>\n",
       "      <td>Crime,Drama,Mystery</td>\n",
       "      <td>A tight-knit team of rising investigators, alo...</td>\n",
       "      <td>Billy Ray</td>\n",
       "      <td>Chiwetel Ejiofor, Nicole Kidman, Julia Roberts...</td>\n",
       "      <td>2015</td>\n",
       "      <td>111</td>\n",
       "      <td>6.2</td>\n",
       "      <td>27585</td>\n",
       "      <td>NaN</td>\n",
       "      <td>45.0</td>\n",
       "    </tr>\n",
       "    <tr>\n",
       "      <th>996</th>\n",
       "      <td>997</td>\n",
       "      <td>Hostel: Part II</td>\n",
       "      <td>Horror</td>\n",
       "      <td>Three American college students studying abroa...</td>\n",
       "      <td>Eli Roth</td>\n",
       "      <td>Lauren German, Heather Matarazzo, Bijou Philli...</td>\n",
       "      <td>2007</td>\n",
       "      <td>94</td>\n",
       "      <td>5.5</td>\n",
       "      <td>73152</td>\n",
       "      <td>17.54</td>\n",
       "      <td>46.0</td>\n",
       "    </tr>\n",
       "    <tr>\n",
       "      <th>997</th>\n",
       "      <td>998</td>\n",
       "      <td>Step Up 2: The Streets</td>\n",
       "      <td>Drama,Music,Romance</td>\n",
       "      <td>Romantic sparks occur between two dance studen...</td>\n",
       "      <td>Jon M. Chu</td>\n",
       "      <td>Robert Hoffman, Briana Evigan, Cassie Ventura,...</td>\n",
       "      <td>2008</td>\n",
       "      <td>98</td>\n",
       "      <td>6.2</td>\n",
       "      <td>70699</td>\n",
       "      <td>58.01</td>\n",
       "      <td>50.0</td>\n",
       "    </tr>\n",
       "    <tr>\n",
       "      <th>998</th>\n",
       "      <td>999</td>\n",
       "      <td>Search Party</td>\n",
       "      <td>Adventure,Comedy</td>\n",
       "      <td>A pair of friends embark on a mission to reuni...</td>\n",
       "      <td>Scot Armstrong</td>\n",
       "      <td>Adam Pally, T.J. Miller, Thomas Middleditch,Sh...</td>\n",
       "      <td>2014</td>\n",
       "      <td>93</td>\n",
       "      <td>5.6</td>\n",
       "      <td>4881</td>\n",
       "      <td>NaN</td>\n",
       "      <td>22.0</td>\n",
       "    </tr>\n",
       "    <tr>\n",
       "      <th>999</th>\n",
       "      <td>1000</td>\n",
       "      <td>Nine Lives</td>\n",
       "      <td>Comedy,Family,Fantasy</td>\n",
       "      <td>A stuffy businessman finds himself trapped ins...</td>\n",
       "      <td>Barry Sonnenfeld</td>\n",
       "      <td>Kevin Spacey, Jennifer Garner, Robbie Amell,Ch...</td>\n",
       "      <td>2016</td>\n",
       "      <td>87</td>\n",
       "      <td>5.3</td>\n",
       "      <td>12435</td>\n",
       "      <td>19.64</td>\n",
       "      <td>11.0</td>\n",
       "    </tr>\n",
       "  </tbody>\n",
       "</table>\n",
       "</div>"
      ],
      "text/plain": [
       "     Rank                           Title                     Genre  \\\n",
       "990   991  Underworld: Rise of the Lycans  Action,Adventure,Fantasy   \n",
       "991   992                Taare Zameen Par        Drama,Family,Music   \n",
       "992   993            Take Me Home Tonight      Comedy,Drama,Romance   \n",
       "993   994        Resident Evil: Afterlife   Action,Adventure,Horror   \n",
       "994   995                       Project X                    Comedy   \n",
       "995   996            Secret in Their Eyes       Crime,Drama,Mystery   \n",
       "996   997                 Hostel: Part II                    Horror   \n",
       "997   998          Step Up 2: The Streets       Drama,Music,Romance   \n",
       "998   999                    Search Party          Adventure,Comedy   \n",
       "999  1000                      Nine Lives     Comedy,Family,Fantasy   \n",
       "\n",
       "                                           Description            Director  \\\n",
       "990  An origins story centered on the centuries-old...  Patrick Tatopoulos   \n",
       "991  An eight-year-old boy is thought to be a lazy ...          Aamir Khan   \n",
       "992  Four years after graduation, an awkward high s...       Michael Dowse   \n",
       "993  While still out to destroy the evil Umbrella C...  Paul W.S. Anderson   \n",
       "994  3 high school seniors throw a birthday party t...     Nima Nourizadeh   \n",
       "995  A tight-knit team of rising investigators, alo...           Billy Ray   \n",
       "996  Three American college students studying abroa...            Eli Roth   \n",
       "997  Romantic sparks occur between two dance studen...          Jon M. Chu   \n",
       "998  A pair of friends embark on a mission to reuni...      Scot Armstrong   \n",
       "999  A stuffy businessman finds himself trapped ins...    Barry Sonnenfeld   \n",
       "\n",
       "                                                Actors  Year  \\\n",
       "990  Rhona Mitra, Michael Sheen, Bill Nighy, Steven...  2009   \n",
       "991  Darsheel Safary, Aamir Khan, Tanay Chheda, Sac...  2007   \n",
       "992  Topher Grace, Anna Faris, Dan Fogler, Teresa P...  2011   \n",
       "993  Milla Jovovich, Ali Larter, Wentworth Miller,K...  2010   \n",
       "994  Thomas Mann, Oliver Cooper, Jonathan Daniel Br...  2012   \n",
       "995  Chiwetel Ejiofor, Nicole Kidman, Julia Roberts...  2015   \n",
       "996  Lauren German, Heather Matarazzo, Bijou Philli...  2007   \n",
       "997  Robert Hoffman, Briana Evigan, Cassie Ventura,...  2008   \n",
       "998  Adam Pally, T.J. Miller, Thomas Middleditch,Sh...  2014   \n",
       "999  Kevin Spacey, Jennifer Garner, Robbie Amell,Ch...  2016   \n",
       "\n",
       "     Runtime (Minutes)  Rating   Votes  Revenue (Millions)  Metascore  \n",
       "990                 92     6.6  129708               45.80       44.0  \n",
       "991                165     8.5  102697                1.20       42.0  \n",
       "992                 97     6.3   45419                6.92        NaN  \n",
       "993                 97     5.9  140900               60.13       37.0  \n",
       "994                 88     6.7  164088               54.72       48.0  \n",
       "995                111     6.2   27585                 NaN       45.0  \n",
       "996                 94     5.5   73152               17.54       46.0  \n",
       "997                 98     6.2   70699               58.01       50.0  \n",
       "998                 93     5.6    4881                 NaN       22.0  \n",
       "999                 87     5.3   12435               19.64       11.0  "
      ]
     },
     "execution_count": 150,
     "metadata": {},
     "output_type": "execute_result"
    }
   ],
   "source": [
    "data.tail(10)"
   ]
  },
  {
   "cell_type": "markdown",
   "metadata": {},
   "source": [
    "### 3. Find Shape of Our Dataset (Number of Rows And Number of Columns)"
   ]
  },
  {
   "cell_type": "code",
   "execution_count": 151,
   "metadata": {},
   "outputs": [
    {
     "data": {
      "text/plain": [
       "(1000, 12)"
      ]
     },
     "execution_count": 151,
     "metadata": {},
     "output_type": "execute_result"
    }
   ],
   "source": [
    "data.shape"
   ]
  },
  {
   "cell_type": "code",
   "execution_count": 152,
   "metadata": {},
   "outputs": [
    {
     "name": "stdout",
     "output_type": "stream",
     "text": [
      "Number of Rows 1000\n",
      "Number of Columns 12\n"
     ]
    }
   ],
   "source": [
    "print(\"Number of Rows\",data.shape[0])\n",
    "print(\"Number of Columns\",data.shape[1])"
   ]
  },
  {
   "cell_type": "markdown",
   "metadata": {},
   "source": [
    "### 4. Getting Information About Our Dataset Like Total Number Rows, Total Number of Columns, Datatypes of Each Column And Memory Requirement"
   ]
  },
  {
   "cell_type": "code",
   "execution_count": 153,
   "metadata": {},
   "outputs": [
    {
     "name": "stdout",
     "output_type": "stream",
     "text": [
      "<class 'pandas.core.frame.DataFrame'>\n",
      "RangeIndex: 1000 entries, 0 to 999\n",
      "Data columns (total 12 columns):\n",
      " #   Column              Non-Null Count  Dtype  \n",
      "---  ------              --------------  -----  \n",
      " 0   Rank                1000 non-null   int64  \n",
      " 1   Title               1000 non-null   object \n",
      " 2   Genre               1000 non-null   object \n",
      " 3   Description         1000 non-null   object \n",
      " 4   Director            1000 non-null   object \n",
      " 5   Actors              1000 non-null   object \n",
      " 6   Year                1000 non-null   int64  \n",
      " 7   Runtime (Minutes)   1000 non-null   int64  \n",
      " 8   Rating              1000 non-null   float64\n",
      " 9   Votes               1000 non-null   int64  \n",
      " 10  Revenue (Millions)  872 non-null    float64\n",
      " 11  Metascore           936 non-null    float64\n",
      "dtypes: float64(3), int64(4), object(5)\n",
      "memory usage: 93.9+ KB\n"
     ]
    }
   ],
   "source": [
    "data.info()"
   ]
  },
  {
   "cell_type": "markdown",
   "metadata": {},
   "source": [
    "### 5. Check Null Values In The Dataset"
   ]
  },
  {
   "cell_type": "code",
   "execution_count": 154,
   "metadata": {},
   "outputs": [
    {
     "name": "stdout",
     "output_type": "stream",
     "text": [
      "Is there any missing value in the dataset? True\n"
     ]
    }
   ],
   "source": [
    "print(\"Is there any missing value in the dataset?\",\n",
    "      data.isnull().values.any())"
   ]
  },
  {
   "cell_type": "code",
   "execution_count": 155,
   "metadata": {},
   "outputs": [
    {
     "data": {
      "text/plain": [
       "Rank                    0\n",
       "Title                   0\n",
       "Genre                   0\n",
       "Description             0\n",
       "Director                0\n",
       "Actors                  0\n",
       "Year                    0\n",
       "Runtime (Minutes)       0\n",
       "Rating                  0\n",
       "Votes                   0\n",
       "Revenue (Millions)    128\n",
       "Metascore              64\n",
       "dtype: int64"
      ]
     },
     "execution_count": 155,
     "metadata": {},
     "output_type": "execute_result"
    }
   ],
   "source": [
    "data.isnull().sum()"
   ]
  },
  {
   "cell_type": "code",
   "execution_count": 156,
   "metadata": {},
   "outputs": [
    {
     "data": {
      "image/png": "[encoded data removed]",
      "text/plain": [
       "<Figure size 640x480 with 2 Axes>"
      ]
     },
     "metadata": {},
     "output_type": "display_data"
    }
   ],
   "source": [
    "sns.heatmap(data.isnull())\n",
    "plt.show()"
   ]
  },
  {
   "cell_type": "code",
   "execution_count": 157,
   "metadata": {},
   "outputs": [
    {
     "data": {
      "text/plain": [
       "Rank                   0.0\n",
       "Title                  0.0\n",
       "Genre                  0.0\n",
       "Description            0.0\n",
       "Director               0.0\n",
       "Actors                 0.0\n",
       "Year                   0.0\n",
       "Runtime (Minutes)      0.0\n",
       "Rating                 0.0\n",
       "Votes                  0.0\n",
       "Revenue (Millions)    12.8\n",
       "Metascore              6.4\n",
       "dtype: float64"
      ]
     },
     "execution_count": 157,
     "metadata": {},
     "output_type": "execute_result"
    }
   ],
   "source": [
    "per_missing = data.isnull().sum() * 100 / len(data)\n",
    "per_missing"
   ]
  },
  {
   "cell_type": "markdown",
   "metadata": {},
   "source": [
    "### 6. Drop All The Missing Values"
   ]
  },
  {
   "cell_type": "code",
   "execution_count": 158,
   "metadata": {},
   "outputs": [],
   "source": [
    "data.dropna(axis=0, inplace = True)"
   ]
  },
  {
   "cell_type": "markdown",
   "metadata": {},
   "source": [
    "### 7. Check For Duplicate Data"
   ]
  },
  {
   "cell_type": "code",
   "execution_count": 159,
   "metadata": {},
   "outputs": [
    {
     "name": "stdout",
     "output_type": "stream",
     "text": [
      "Are there any duplicated values in data? False\n"
     ]
    }
   ],
   "source": [
    "dup_data=data.duplicated().any()\n",
    "print(\"Are there any duplicated values in data?\",dup_data)"
   ]
  },
  {
   "cell_type": "code",
   "execution_count": 160,
   "metadata": {},
   "outputs": [],
   "source": [
    "data = data.drop_duplicates()"
   ]
  },
  {
   "cell_type": "markdown",
   "metadata": {},
   "source": [
    "### Verify Null values"
   ]
  },
  {
   "cell_type": "code",
   "execution_count": 161,
   "metadata": {},
   "outputs": [
    {
     "data": {
      "text/plain": [
       "Rank                  0\n",
       "Title                 0\n",
       "Genre                 0\n",
       "Description           0\n",
       "Director              0\n",
       "Actors                0\n",
       "Year                  0\n",
       "Runtime (Minutes)     0\n",
       "Rating                0\n",
       "Votes                 0\n",
       "Revenue (Millions)    0\n",
       "Metascore             0\n",
       "dtype: int64"
      ]
     },
     "execution_count": 161,
     "metadata": {},
     "output_type": "execute_result"
    }
   ],
   "source": [
    "data.isnull().sum()"
   ]
  },
  {
   "cell_type": "markdown",
   "metadata": {},
   "source": [
    "### 8. Get Overall Statistics About The DataFrame"
   ]
  },
  {
   "cell_type": "code",
   "execution_count": 162,
   "metadata": {},
   "outputs": [
    {
     "data": {
      "text/html": [
       "<div>\n",
       "<style scoped>\n",
       "    .dataframe tbody tr th:only-of-type {\n",
       "        vertical-align: middle;\n",
       "    }\n",
       "\n",
       "    .dataframe tbody tr th {\n",
       "        vertical-align: top;\n",
       "    }\n",
       "\n",
       "    .dataframe thead th {\n",
       "        text-align: right;\n",
       "    }\n",
       "</style>\n",
       "<table border=\"1\" class=\"dataframe\">\n",
       "  <thead>\n",
       "    <tr style=\"text-align: right;\">\n",
       "      <th></th>\n",
       "      <th>Rank</th>\n",
       "      <th>Year</th>\n",
       "      <th>Runtime (Minutes)</th>\n",
       "      <th>Rating</th>\n",
       "      <th>Votes</th>\n",
       "      <th>Revenue (Millions)</th>\n",
       "      <th>Metascore</th>\n",
       "    </tr>\n",
       "  </thead>\n",
       "  <tbody>\n",
       "    <tr>\n",
       "      <th>count</th>\n",
       "      <td>838.000000</td>\n",
       "      <td>838.00000</td>\n",
       "      <td>838.000000</td>\n",
       "      <td>838.000000</td>\n",
       "      <td>8.380000e+02</td>\n",
       "      <td>838.000000</td>\n",
       "      <td>838.000000</td>\n",
       "    </tr>\n",
       "    <tr>\n",
       "      <th>mean</th>\n",
       "      <td>485.247017</td>\n",
       "      <td>2012.50716</td>\n",
       "      <td>114.638425</td>\n",
       "      <td>6.814320</td>\n",
       "      <td>1.932303e+05</td>\n",
       "      <td>84.564558</td>\n",
       "      <td>59.575179</td>\n",
       "    </tr>\n",
       "    <tr>\n",
       "      <th>std</th>\n",
       "      <td>286.572065</td>\n",
       "      <td>3.17236</td>\n",
       "      <td>18.470922</td>\n",
       "      <td>0.877754</td>\n",
       "      <td>1.930990e+05</td>\n",
       "      <td>104.520227</td>\n",
       "      <td>16.952416</td>\n",
       "    </tr>\n",
       "    <tr>\n",
       "      <th>min</th>\n",
       "      <td>1.000000</td>\n",
       "      <td>2006.00000</td>\n",
       "      <td>66.000000</td>\n",
       "      <td>1.900000</td>\n",
       "      <td>1.780000e+02</td>\n",
       "      <td>0.000000</td>\n",
       "      <td>11.000000</td>\n",
       "    </tr>\n",
       "    <tr>\n",
       "      <th>25%</th>\n",
       "      <td>238.250000</td>\n",
       "      <td>2010.00000</td>\n",
       "      <td>101.000000</td>\n",
       "      <td>6.300000</td>\n",
       "      <td>6.127650e+04</td>\n",
       "      <td>13.967500</td>\n",
       "      <td>47.000000</td>\n",
       "    </tr>\n",
       "    <tr>\n",
       "      <th>50%</th>\n",
       "      <td>475.500000</td>\n",
       "      <td>2013.00000</td>\n",
       "      <td>112.000000</td>\n",
       "      <td>6.900000</td>\n",
       "      <td>1.368795e+05</td>\n",
       "      <td>48.150000</td>\n",
       "      <td>60.000000</td>\n",
       "    </tr>\n",
       "    <tr>\n",
       "      <th>75%</th>\n",
       "      <td>729.750000</td>\n",
       "      <td>2015.00000</td>\n",
       "      <td>124.000000</td>\n",
       "      <td>7.500000</td>\n",
       "      <td>2.710830e+05</td>\n",
       "      <td>116.800000</td>\n",
       "      <td>72.000000</td>\n",
       "    </tr>\n",
       "    <tr>\n",
       "      <th>max</th>\n",
       "      <td>1000.000000</td>\n",
       "      <td>2016.00000</td>\n",
       "      <td>187.000000</td>\n",
       "      <td>9.000000</td>\n",
       "      <td>1.791916e+06</td>\n",
       "      <td>936.630000</td>\n",
       "      <td>100.000000</td>\n",
       "    </tr>\n",
       "  </tbody>\n",
       "</table>\n",
       "</div>"
      ],
      "text/plain": [
       "              Rank        Year  Runtime (Minutes)      Rating         Votes  \\\n",
       "count   838.000000   838.00000         838.000000  838.000000  8.380000e+02   \n",
       "mean    485.247017  2012.50716         114.638425    6.814320  1.932303e+05   \n",
       "std     286.572065     3.17236          18.470922    0.877754  1.930990e+05   \n",
       "min       1.000000  2006.00000          66.000000    1.900000  1.780000e+02   \n",
       "25%     238.250000  2010.00000         101.000000    6.300000  6.127650e+04   \n",
       "50%     475.500000  2013.00000         112.000000    6.900000  1.368795e+05   \n",
       "75%     729.750000  2015.00000         124.000000    7.500000  2.710830e+05   \n",
       "max    1000.000000  2016.00000         187.000000    9.000000  1.791916e+06   \n",
       "\n",
       "       Revenue (Millions)   Metascore  \n",
       "count          838.000000  838.000000  \n",
       "mean            84.564558   59.575179  \n",
       "std            104.520227   16.952416  \n",
       "min              0.000000   11.000000  \n",
       "25%             13.967500   47.000000  \n",
       "50%             48.150000   60.000000  \n",
       "75%            116.800000   72.000000  \n",
       "max            936.630000  100.000000  "
      ]
     },
     "execution_count": 162,
     "metadata": {},
     "output_type": "execute_result"
    }
   ],
   "source": [
    "data.describe()"
   ]
  },
  {
   "cell_type": "markdown",
   "metadata": {},
   "source": [
    "### 9. Display Title of The Movie Having Runtime >= 180 Minutes"
   ]
  },
  {
   "cell_type": "code",
   "execution_count": 163,
   "metadata": {},
   "outputs": [
    {
     "data": {
      "text/plain": [
       "Index(['Rank', 'Title', 'Genre', 'Description', 'Director', 'Actors', 'Year',\n",
       "       'Runtime (Minutes)', 'Rating', 'Votes', 'Revenue (Millions)',\n",
       "       'Metascore'],\n",
       "      dtype='object')"
      ]
     },
     "execution_count": 163,
     "metadata": {},
     "output_type": "execute_result"
    }
   ],
   "source": [
    "data.columns"
   ]
  },
  {
   "cell_type": "code",
   "execution_count": 164,
   "metadata": {},
   "outputs": [
    {
     "data": {
      "text/plain": [
       "82     The Wolf of Wall Street\n",
       "88           The Hateful Eight\n",
       "311             La vie d'Adèle\n",
       "Name: Title, dtype: object"
      ]
     },
     "execution_count": 164,
     "metadata": {},
     "output_type": "execute_result"
    }
   ],
   "source": [
    "data[data['Runtime (Minutes)']>=180]['Title']"
   ]
  },
  {
   "cell_type": "markdown",
   "metadata": {},
   "source": [
    "### 10. In Which Year There Was The Highest Average Voting?"
   ]
  },
  {
   "cell_type": "code",
   "execution_count": 165,
   "metadata": {},
   "outputs": [
    {
     "data": {
      "text/plain": [
       "Index(['Rank', 'Title', 'Genre', 'Description', 'Director', 'Actors', 'Year',\n",
       "       'Runtime (Minutes)', 'Rating', 'Votes', 'Revenue (Millions)',\n",
       "       'Metascore'],\n",
       "      dtype='object')"
      ]
     },
     "execution_count": 165,
     "metadata": {},
     "output_type": "execute_result"
    }
   ],
   "source": [
    "data.columns"
   ]
  },
  {
   "cell_type": "code",
   "execution_count": 166,
   "metadata": {},
   "outputs": [
    {
     "data": {
      "text/plain": [
       "Year\n",
       "2012    290861.483871\n",
       "2006    277232.219512\n",
       "2009    267180.577778\n",
       "2008    266580.145833\n",
       "2007    266530.704545\n",
       "2010    261082.929825\n",
       "2011    259254.736842\n",
       "2013    225531.892857\n",
       "2014    211926.881720\n",
       "2015    129512.651376\n",
       "2016     68437.823232\n",
       "Name: Votes, dtype: float64"
      ]
     },
     "execution_count": 166,
     "metadata": {},
     "output_type": "execute_result"
    }
   ],
   "source": [
    "data.groupby('Year')['Votes'].mean().sort_values(ascending=False)"
   ]
  },
  {
   "cell_type": "code",
   "execution_count": 167,
   "metadata": {},
   "outputs": [
    {
     "data": {
      "image/png": "[encoded data removed]",
      "text/plain": [
       "<Figure size 640x480 with 1 Axes>"
      ]
     },
     "metadata": {},
     "output_type": "display_data"
    }
   ],
   "source": [
    "sns.barplot(x='Year',y='Votes',data=data)\n",
    "plt.title(\"Votes By Year\")\n",
    "plt.show()"
   ]
  },
  {
   "cell_type": "code",
   "execution_count": 168,
   "metadata": {},
   "outputs": [],
   "source": [
    "# as you can see higest average voting was in year 2012"
   ]
  },
  {
   "cell_type": "markdown",
   "metadata": {},
   "source": [
    "### 11. In Which Year There Was The Highest Average Revenue?"
   ]
  },
  {
   "cell_type": "code",
   "execution_count": 169,
   "metadata": {},
   "outputs": [
    {
     "data": {
      "text/plain": [
       "Index(['Rank', 'Title', 'Genre', 'Description', 'Director', 'Actors', 'Year',\n",
       "       'Runtime (Minutes)', 'Rating', 'Votes', 'Revenue (Millions)',\n",
       "       'Metascore'],\n",
       "      dtype='object')"
      ]
     },
     "execution_count": 169,
     "metadata": {},
     "output_type": "execute_result"
    }
   ],
   "source": [
    "data.columns"
   ]
  },
  {
   "cell_type": "code",
   "execution_count": 170,
   "metadata": {},
   "outputs": [
    {
     "data": {
      "text/plain": [
       "Year\n",
       "2009    115.742000\n",
       "2012    110.103065\n",
       "2010    105.081579\n",
       "2008     97.525417\n",
       "2011     93.703333\n",
       "2007     93.074091\n",
       "2013     88.084643\n",
       "2006     87.255610\n",
       "2014     85.433656\n",
       "2015     80.725596\n",
       "2016     55.566111\n",
       "Name: Revenue (Millions), dtype: float64"
      ]
     },
     "execution_count": 170,
     "metadata": {},
     "output_type": "execute_result"
    }
   ],
   "source": [
    "data.groupby('Year')['Revenue (Millions)'].mean().sort_values(ascending=False)"
   ]
  },
  {
   "cell_type": "code",
   "execution_count": 171,
   "metadata": {},
   "outputs": [
    {
     "data": {
      "image/png": "[encoded data removed]",
      "text/plain": [
       "<Figure size 640x480 with 1 Axes>"
      ]
     },
     "metadata": {},
     "output_type": "display_data"
    }
   ],
   "source": [
    "sns.barplot(x='Year',y='Revenue (Millions)',data=data)\n",
    "plt.title(\"Revenue By Year\")\n",
    "plt.show()"
   ]
  },
  {
   "cell_type": "code",
   "execution_count": 172,
   "metadata": {},
   "outputs": [],
   "source": [
    "# as you can see higest average revenue was in year 2009"
   ]
  },
  {
   "cell_type": "markdown",
   "metadata": {},
   "source": [
    "### 12. Find The Average Rating For Each Director"
   ]
  },
  {
   "cell_type": "code",
   "execution_count": 173,
   "metadata": {},
   "outputs": [
    {
     "data": {
      "text/plain": [
       "Index(['Rank', 'Title', 'Genre', 'Description', 'Director', 'Actors', 'Year',\n",
       "       'Runtime (Minutes)', 'Rating', 'Votes', 'Revenue (Millions)',\n",
       "       'Metascore'],\n",
       "      dtype='object')"
      ]
     },
     "execution_count": 173,
     "metadata": {},
     "output_type": "execute_result"
    }
   ],
   "source": [
    "data.columns"
   ]
  },
  {
   "cell_type": "code",
   "execution_count": 174,
   "metadata": {},
   "outputs": [
    {
     "data": {
      "text/plain": [
       "Director\n",
       "Christopher Nolan                   8.68\n",
       "Olivier Nakache                     8.60\n",
       "Makoto Shinkai                      8.60\n",
       "Florian Henckel von Donnersmarck    8.50\n",
       "Aamir Khan                          8.50\n",
       "                                    ... \n",
       "Sam Taylor-Johnson                  4.10\n",
       "Joey Curtis                         4.00\n",
       "George Nolfi                        3.90\n",
       "James Wong                          2.70\n",
       "Jason Friedberg                     1.90\n",
       "Name: Rating, Length: 524, dtype: float64"
      ]
     },
     "execution_count": 174,
     "metadata": {},
     "output_type": "execute_result"
    }
   ],
   "source": [
    "data.groupby('Director')['Rating'].mean().sort_values(ascending=False)"
   ]
  },
  {
   "cell_type": "markdown",
   "metadata": {},
   "source": [
    "### 13. Display Top 10 Lengthy Movies Title and Runtime"
   ]
  },
  {
   "cell_type": "code",
   "execution_count": 175,
   "metadata": {},
   "outputs": [
    {
     "data": {
      "text/plain": [
       "Index(['Rank', 'Title', 'Genre', 'Description', 'Director', 'Actors', 'Year',\n",
       "       'Runtime (Minutes)', 'Rating', 'Votes', 'Revenue (Millions)',\n",
       "       'Metascore'],\n",
       "      dtype='object')"
      ]
     },
     "execution_count": 175,
     "metadata": {},
     "output_type": "execute_result"
    }
   ],
   "source": [
    "data.columns"
   ]
  },
  {
   "cell_type": "code",
   "execution_count": 176,
   "metadata": {},
   "outputs": [
    {
     "data": {
      "text/html": [
       "<div>\n",
       "<style scoped>\n",
       "    .dataframe tbody tr th:only-of-type {\n",
       "        vertical-align: middle;\n",
       "    }\n",
       "\n",
       "    .dataframe tbody tr th {\n",
       "        vertical-align: top;\n",
       "    }\n",
       "\n",
       "    .dataframe thead th {\n",
       "        text-align: right;\n",
       "    }\n",
       "</style>\n",
       "<table border=\"1\" class=\"dataframe\">\n",
       "  <thead>\n",
       "    <tr style=\"text-align: right;\">\n",
       "      <th></th>\n",
       "      <th>Title</th>\n",
       "      <th>Runtime (Minutes)</th>\n",
       "    </tr>\n",
       "  </thead>\n",
       "  <tbody>\n",
       "    <tr>\n",
       "      <th>88</th>\n",
       "      <td>The Hateful Eight</td>\n",
       "      <td>187</td>\n",
       "    </tr>\n",
       "    <tr>\n",
       "      <th>82</th>\n",
       "      <td>The Wolf of Wall Street</td>\n",
       "      <td>180</td>\n",
       "    </tr>\n",
       "    <tr>\n",
       "      <th>311</th>\n",
       "      <td>La vie d'Adèle</td>\n",
       "      <td>180</td>\n",
       "    </tr>\n",
       "    <tr>\n",
       "      <th>267</th>\n",
       "      <td>Cloud Atlas</td>\n",
       "      <td>172</td>\n",
       "    </tr>\n",
       "    <tr>\n",
       "      <th>430</th>\n",
       "      <td>3 Idiots</td>\n",
       "      <td>170</td>\n",
       "    </tr>\n",
       "    <tr>\n",
       "      <th>75</th>\n",
       "      <td>Pirates of the Caribbean: At World's End</td>\n",
       "      <td>169</td>\n",
       "    </tr>\n",
       "    <tr>\n",
       "      <th>36</th>\n",
       "      <td>Interstellar</td>\n",
       "      <td>169</td>\n",
       "    </tr>\n",
       "    <tr>\n",
       "      <th>271</th>\n",
       "      <td>The Hobbit: An Unexpected Journey</td>\n",
       "      <td>169</td>\n",
       "    </tr>\n",
       "    <tr>\n",
       "      <th>425</th>\n",
       "      <td>The Curious Case of Benjamin Button</td>\n",
       "      <td>166</td>\n",
       "    </tr>\n",
       "    <tr>\n",
       "      <th>126</th>\n",
       "      <td>Transformers: Age of Extinction</td>\n",
       "      <td>165</td>\n",
       "    </tr>\n",
       "  </tbody>\n",
       "</table>\n",
       "</div>"
      ],
      "text/plain": [
       "                                        Title  Runtime (Minutes)\n",
       "88                          The Hateful Eight                187\n",
       "82                    The Wolf of Wall Street                180\n",
       "311                            La vie d'Adèle                180\n",
       "267                               Cloud Atlas                172\n",
       "430                                  3 Idiots                170\n",
       "75   Pirates of the Caribbean: At World's End                169\n",
       "36                               Interstellar                169\n",
       "271         The Hobbit: An Unexpected Journey                169\n",
       "425       The Curious Case of Benjamin Button                166\n",
       "126           Transformers: Age of Extinction                165"
      ]
     },
     "execution_count": 176,
     "metadata": {},
     "output_type": "execute_result"
    }
   ],
   "source": [
    "df1 = data[['Title','Runtime (Minutes)']].sort_values( by = 'Runtime (Minutes)', ascending = False).head(10)\n",
    "df1"
   ]
  },
  {
   "cell_type": "code",
   "execution_count": 177,
   "metadata": {},
   "outputs": [
    {
     "data": {
      "image/png": "[encoded data removed]",
      "text/plain": [
       "<Figure size 640x480 with 1 Axes>"
      ]
     },
     "metadata": {},
     "output_type": "display_data"
    }
   ],
   "source": [
    "sns.barplot(x = 'Runtime (Minutes)', y = 'Title', data = df1, palette = 'dark')\n",
    "plt.show()"
   ]
  },
  {
   "cell_type": "markdown",
   "metadata": {},
   "source": [
    "### 14. Display Number of Movies Per Year"
   ]
  },
  {
   "cell_type": "code",
   "execution_count": 178,
   "metadata": {},
   "outputs": [
    {
     "data": {
      "image/png": "[encoded data removed]",
      "text/plain": [
       "<Figure size 640x480 with 1 Axes>"
      ]
     },
     "metadata": {},
     "output_type": "display_data"
    }
   ],
   "source": [
    "sns.countplot(x='Year',data=data, palette = 'pastel')\n",
    "plt.title(\"Number of Movies Per Year\")\n",
    "plt.show()"
   ]
  },
  {
   "cell_type": "code",
   "execution_count": 179,
   "metadata": {},
   "outputs": [
    {
     "data": {
      "text/plain": [
       "Year\n",
       "2016    198\n",
       "2015    109\n",
       "2014     93\n",
       "2013     84\n",
       "2012     62\n",
       "2011     57\n",
       "2010     57\n",
       "2008     48\n",
       "2009     45\n",
       "2007     44\n",
       "2006     41\n",
       "Name: count, dtype: int64"
      ]
     },
     "execution_count": 179,
     "metadata": {},
     "output_type": "execute_result"
    }
   ],
   "source": [
    "data['Year'].value_counts()"
   ]
  },
  {
   "cell_type": "markdown",
   "metadata": {},
   "source": [
    "### 15. Find Most Popular Movie Title (Higest Revenue)"
   ]
  },
  {
   "cell_type": "code",
   "execution_count": 180,
   "metadata": {},
   "outputs": [
    {
     "data": {
      "text/plain": [
       "Index(['Rank', 'Title', 'Genre', 'Description', 'Director', 'Actors', 'Year',\n",
       "       'Runtime (Minutes)', 'Rating', 'Votes', 'Revenue (Millions)',\n",
       "       'Metascore'],\n",
       "      dtype='object')"
      ]
     },
     "execution_count": 180,
     "metadata": {},
     "output_type": "execute_result"
    }
   ],
   "source": [
    "data.columns"
   ]
  },
  {
   "cell_type": "code",
   "execution_count": 181,
   "metadata": {},
   "outputs": [
    {
     "data": {
      "text/html": [
       "<div>\n",
       "<style scoped>\n",
       "    .dataframe tbody tr th:only-of-type {\n",
       "        vertical-align: middle;\n",
       "    }\n",
       "\n",
       "    .dataframe tbody tr th {\n",
       "        vertical-align: top;\n",
       "    }\n",
       "\n",
       "    .dataframe thead th {\n",
       "        text-align: right;\n",
       "    }\n",
       "</style>\n",
       "<table border=\"1\" class=\"dataframe\">\n",
       "  <thead>\n",
       "    <tr style=\"text-align: right;\">\n",
       "      <th></th>\n",
       "      <th>Title</th>\n",
       "      <th>Revenue (Millions)</th>\n",
       "    </tr>\n",
       "  </thead>\n",
       "  <tbody>\n",
       "    <tr>\n",
       "      <th>50</th>\n",
       "      <td>Star Wars: Episode VII - The Force Awakens</td>\n",
       "      <td>936.63</td>\n",
       "    </tr>\n",
       "  </tbody>\n",
       "</table>\n",
       "</div>"
      ],
      "text/plain": [
       "                                         Title  Revenue (Millions)\n",
       "50  Star Wars: Episode VII - The Force Awakens              936.63"
      ]
     },
     "execution_count": 181,
     "metadata": {},
     "output_type": "execute_result"
    }
   ],
   "source": [
    "data[['Title', 'Revenue (Millions)']].sort_values(by = 'Revenue (Millions)', ascending = False).head(1)"
   ]
  },
  {
   "cell_type": "markdown",
   "metadata": {},
   "source": [
    "### 16. Display Top 5 Highest Rated Movie Titles And its Directors"
   ]
  },
  {
   "cell_type": "code",
   "execution_count": 182,
   "metadata": {},
   "outputs": [
    {
     "data": {
      "text/html": [
       "<div>\n",
       "<style scoped>\n",
       "    .dataframe tbody tr th:only-of-type {\n",
       "        vertical-align: middle;\n",
       "    }\n",
       "\n",
       "    .dataframe tbody tr th {\n",
       "        vertical-align: top;\n",
       "    }\n",
       "\n",
       "    .dataframe thead th {\n",
       "        text-align: right;\n",
       "    }\n",
       "</style>\n",
       "<table border=\"1\" class=\"dataframe\">\n",
       "  <thead>\n",
       "    <tr style=\"text-align: right;\">\n",
       "      <th></th>\n",
       "      <th>Title</th>\n",
       "      <th>Rating</th>\n",
       "    </tr>\n",
       "  </thead>\n",
       "  <tbody>\n",
       "    <tr>\n",
       "      <th>54</th>\n",
       "      <td>The Dark Knight</td>\n",
       "      <td>9.0</td>\n",
       "    </tr>\n",
       "    <tr>\n",
       "      <th>80</th>\n",
       "      <td>Inception</td>\n",
       "      <td>8.8</td>\n",
       "    </tr>\n",
       "    <tr>\n",
       "      <th>36</th>\n",
       "      <td>Interstellar</td>\n",
       "      <td>8.6</td>\n",
       "    </tr>\n",
       "    <tr>\n",
       "      <th>249</th>\n",
       "      <td>The Intouchables</td>\n",
       "      <td>8.6</td>\n",
       "    </tr>\n",
       "    <tr>\n",
       "      <th>96</th>\n",
       "      <td>Kimi no na wa</td>\n",
       "      <td>8.6</td>\n",
       "    </tr>\n",
       "  </tbody>\n",
       "</table>\n",
       "</div>"
      ],
      "text/plain": [
       "                Title  Rating\n",
       "54    The Dark Knight     9.0\n",
       "80          Inception     8.8\n",
       "36       Interstellar     8.6\n",
       "249  The Intouchables     8.6\n",
       "96      Kimi no na wa     8.6"
      ]
     },
     "execution_count": 182,
     "metadata": {},
     "output_type": "execute_result"
    }
   ],
   "source": [
    "df2 = data[['Title','Rating']].sort_values( by = 'Rating', ascending = False).head(5)\n",
    "df2"
   ]
  },
  {
   "cell_type": "code",
   "execution_count": 183,
   "metadata": {},
   "outputs": [
    {
     "data": {
      "image/png": "[encoded data removed]",
      "text/plain": [
       "<Figure size 800x500 with 1 Axes>"
      ]
     },
     "metadata": {},
     "output_type": "display_data"
    }
   ],
   "source": [
    "plt.figure(figsize = (8,5))\n",
    "sns.barplot(x = 'Title', y = 'Rating', data = df2, palette = 'dark')\n",
    "plt.show()"
   ]
  },
  {
   "cell_type": "markdown",
   "metadata": {},
   "source": [
    "### 17. Display Top 10 Highest Revenue Movie Titles"
   ]
  },
  {
   "cell_type": "code",
   "execution_count": 184,
   "metadata": {},
   "outputs": [
    {
     "data": {
      "text/plain": [
       "Index(['Rank', 'Title', 'Genre', 'Description', 'Director', 'Actors', 'Year',\n",
       "       'Runtime (Minutes)', 'Rating', 'Votes', 'Revenue (Millions)',\n",
       "       'Metascore'],\n",
       "      dtype='object')"
      ]
     },
     "execution_count": 184,
     "metadata": {},
     "output_type": "execute_result"
    }
   ],
   "source": [
    "data.columns"
   ]
  },
  {
   "cell_type": "code",
   "execution_count": 185,
   "metadata": {},
   "outputs": [
    {
     "data": {
      "text/html": [
       "<div>\n",
       "<style scoped>\n",
       "    .dataframe tbody tr th:only-of-type {\n",
       "        vertical-align: middle;\n",
       "    }\n",
       "\n",
       "    .dataframe tbody tr th {\n",
       "        vertical-align: top;\n",
       "    }\n",
       "\n",
       "    .dataframe thead th {\n",
       "        text-align: right;\n",
       "    }\n",
       "</style>\n",
       "<table border=\"1\" class=\"dataframe\">\n",
       "  <thead>\n",
       "    <tr style=\"text-align: right;\">\n",
       "      <th></th>\n",
       "      <th>Title</th>\n",
       "      <th>Revenue (Millions)</th>\n",
       "    </tr>\n",
       "  </thead>\n",
       "  <tbody>\n",
       "    <tr>\n",
       "      <th>50</th>\n",
       "      <td>Star Wars: Episode VII - The Force Awakens</td>\n",
       "      <td>936.63</td>\n",
       "    </tr>\n",
       "    <tr>\n",
       "      <th>87</th>\n",
       "      <td>Avatar</td>\n",
       "      <td>760.51</td>\n",
       "    </tr>\n",
       "    <tr>\n",
       "      <th>85</th>\n",
       "      <td>Jurassic World</td>\n",
       "      <td>652.18</td>\n",
       "    </tr>\n",
       "    <tr>\n",
       "      <th>76</th>\n",
       "      <td>The Avengers</td>\n",
       "      <td>623.28</td>\n",
       "    </tr>\n",
       "    <tr>\n",
       "      <th>54</th>\n",
       "      <td>The Dark Knight</td>\n",
       "      <td>533.32</td>\n",
       "    </tr>\n",
       "    <tr>\n",
       "      <th>12</th>\n",
       "      <td>Rogue One</td>\n",
       "      <td>532.17</td>\n",
       "    </tr>\n",
       "    <tr>\n",
       "      <th>119</th>\n",
       "      <td>Finding Dory</td>\n",
       "      <td>486.29</td>\n",
       "    </tr>\n",
       "    <tr>\n",
       "      <th>94</th>\n",
       "      <td>Avengers: Age of Ultron</td>\n",
       "      <td>458.99</td>\n",
       "    </tr>\n",
       "    <tr>\n",
       "      <th>124</th>\n",
       "      <td>The Dark Knight Rises</td>\n",
       "      <td>448.13</td>\n",
       "    </tr>\n",
       "    <tr>\n",
       "      <th>578</th>\n",
       "      <td>The Hunger Games: Catching Fire</td>\n",
       "      <td>424.65</td>\n",
       "    </tr>\n",
       "  </tbody>\n",
       "</table>\n",
       "</div>"
      ],
      "text/plain": [
       "                                          Title  Revenue (Millions)\n",
       "50   Star Wars: Episode VII - The Force Awakens              936.63\n",
       "87                                       Avatar              760.51\n",
       "85                               Jurassic World              652.18\n",
       "76                                 The Avengers              623.28\n",
       "54                              The Dark Knight              533.32\n",
       "12                                    Rogue One              532.17\n",
       "119                                Finding Dory              486.29\n",
       "94                      Avengers: Age of Ultron              458.99\n",
       "124                       The Dark Knight Rises              448.13\n",
       "578             The Hunger Games: Catching Fire              424.65"
      ]
     },
     "execution_count": 185,
     "metadata": {},
     "output_type": "execute_result"
    }
   ],
   "source": [
    "df3 = data[['Title','Revenue (Millions)']].sort_values( by = 'Revenue (Millions)', ascending = False).head(10)\n",
    "df3"
   ]
  },
  {
   "cell_type": "code",
   "execution_count": 186,
   "metadata": {},
   "outputs": [
    {
     "data": {
      "image/png": "[encoded data removed]",
      "text/plain": [
       "<Figure size 800x500 with 1 Axes>"
      ]
     },
     "metadata": {},
     "output_type": "display_data"
    }
   ],
   "source": [
    "plt.figure(figsize = (8,5))\n",
    "sns.barplot(x = 'Revenue (Millions)', y = 'Title', data = df3, palette = 'pastel')\n",
    "plt.show()"
   ]
  },
  {
   "cell_type": "markdown",
   "metadata": {},
   "source": [
    "### 18.  Find Average Rating of Movies Year Wise"
   ]
  },
  {
   "cell_type": "code",
   "execution_count": 187,
   "metadata": {},
   "outputs": [
    {
     "data": {
      "text/plain": [
       "Index(['Rank', 'Title', 'Genre', 'Description', 'Director', 'Actors', 'Year',\n",
       "       'Runtime (Minutes)', 'Rating', 'Votes', 'Revenue (Millions)',\n",
       "       'Metascore'],\n",
       "      dtype='object')"
      ]
     },
     "execution_count": 187,
     "metadata": {},
     "output_type": "execute_result"
    }
   ],
   "source": [
    "data.columns"
   ]
  },
  {
   "cell_type": "code",
   "execution_count": 188,
   "metadata": {},
   "outputs": [
    {
     "data": {
      "text/plain": [
       "Year\n",
       "2006    7.143902\n",
       "2007    7.140909\n",
       "2011    6.945614\n",
       "2012    6.933871\n",
       "2009    6.911111\n",
       "2010    6.894737\n",
       "2013    6.832143\n",
       "2014    6.822581\n",
       "2008    6.708333\n",
       "2015    6.674312\n",
       "2016    6.644444\n",
       "Name: Rating, dtype: float64"
      ]
     },
     "execution_count": 188,
     "metadata": {},
     "output_type": "execute_result"
    }
   ],
   "source": [
    "df4=data.groupby('Year')['Rating'].mean().sort_values( ascending = False)\n",
    "df4\n"
   ]
  },
  {
   "cell_type": "code",
   "execution_count": 189,
   "metadata": {},
   "outputs": [
    {
     "data": {
      "image/png": "[encoded data removed]",
      "text/plain": [
       "<Figure size 640x480 with 1 Axes>"
      ]
     },
     "metadata": {},
     "output_type": "display_data"
    }
   ],
   "source": [
    "sns.barplot(x = df4.index,y = df4.values)\n",
    "plt.show()"
   ]
  },
  {
   "cell_type": "markdown",
   "metadata": {},
   "source": [
    "### 19. Does Rating Affect The Revenue?"
   ]
  },
  {
   "cell_type": "code",
   "execution_count": 190,
   "metadata": {},
   "outputs": [
    {
     "data": {
      "image/png": "[encoded data removed]",
      "text/plain": [
       "<Figure size 640x480 with 1 Axes>"
      ]
     },
     "metadata": {},
     "output_type": "display_data"
    }
   ],
   "source": [
    "sns.scatterplot(x='Rating',y='Revenue (Millions)',data=data)\n",
    "plt.show()"
   ]
  },
  {
   "cell_type": "markdown",
   "metadata": {},
   "source": [
    "### 20. Classify Movies Based on Ratings [Excellent,Good and Average]"
   ]
  },
  {
   "cell_type": "code",
   "execution_count": 191,
   "metadata": {},
   "outputs": [],
   "source": [
    "def rating(rating):\n",
    "    if rating>=7.0:\n",
    "        return 'Excellent'\n",
    "    elif rating>=6.0:\n",
    "        return 'Good'\n",
    "    else:\n",
    "        return 'Average'"
   ]
  },
  {
   "cell_type": "code",
   "execution_count": 192,
   "metadata": {},
   "outputs": [],
   "source": [
    "data['rating_cat']=data['Rating'].apply(rating)"
   ]
  },
  {
   "cell_type": "code",
   "execution_count": 193,
   "metadata": {},
   "outputs": [
    {
     "data": {
      "text/html": [
       "<div>\n",
       "<style scoped>\n",
       "    .dataframe tbody tr th:only-of-type {\n",
       "        vertical-align: middle;\n",
       "    }\n",
       "\n",
       "    .dataframe tbody tr th {\n",
       "        vertical-align: top;\n",
       "    }\n",
       "\n",
       "    .dataframe thead th {\n",
       "        text-align: right;\n",
       "    }\n",
       "</style>\n",
       "<table border=\"1\" class=\"dataframe\">\n",
       "  <thead>\n",
       "    <tr style=\"text-align: right;\">\n",
       "      <th></th>\n",
       "      <th>Rank</th>\n",
       "      <th>Title</th>\n",
       "      <th>Genre</th>\n",
       "      <th>Description</th>\n",
       "      <th>Director</th>\n",
       "      <th>Actors</th>\n",
       "      <th>Year</th>\n",
       "      <th>Runtime (Minutes)</th>\n",
       "      <th>Rating</th>\n",
       "      <th>Votes</th>\n",
       "      <th>Revenue (Millions)</th>\n",
       "      <th>Metascore</th>\n",
       "      <th>rating_cat</th>\n",
       "    </tr>\n",
       "  </thead>\n",
       "  <tbody>\n",
       "    <tr>\n",
       "      <th>993</th>\n",
       "      <td>994</td>\n",
       "      <td>Resident Evil: Afterlife</td>\n",
       "      <td>Action,Adventure,Horror</td>\n",
       "      <td>While still out to destroy the evil Umbrella C...</td>\n",
       "      <td>Paul W.S. Anderson</td>\n",
       "      <td>Milla Jovovich, Ali Larter, Wentworth Miller,K...</td>\n",
       "      <td>2010</td>\n",
       "      <td>97</td>\n",
       "      <td>5.9</td>\n",
       "      <td>140900</td>\n",
       "      <td>60.13</td>\n",
       "      <td>37.0</td>\n",
       "      <td>Average</td>\n",
       "    </tr>\n",
       "    <tr>\n",
       "      <th>994</th>\n",
       "      <td>995</td>\n",
       "      <td>Project X</td>\n",
       "      <td>Comedy</td>\n",
       "      <td>3 high school seniors throw a birthday party t...</td>\n",
       "      <td>Nima Nourizadeh</td>\n",
       "      <td>Thomas Mann, Oliver Cooper, Jonathan Daniel Br...</td>\n",
       "      <td>2012</td>\n",
       "      <td>88</td>\n",
       "      <td>6.7</td>\n",
       "      <td>164088</td>\n",
       "      <td>54.72</td>\n",
       "      <td>48.0</td>\n",
       "      <td>Good</td>\n",
       "    </tr>\n",
       "    <tr>\n",
       "      <th>996</th>\n",
       "      <td>997</td>\n",
       "      <td>Hostel: Part II</td>\n",
       "      <td>Horror</td>\n",
       "      <td>Three American college students studying abroa...</td>\n",
       "      <td>Eli Roth</td>\n",
       "      <td>Lauren German, Heather Matarazzo, Bijou Philli...</td>\n",
       "      <td>2007</td>\n",
       "      <td>94</td>\n",
       "      <td>5.5</td>\n",
       "      <td>73152</td>\n",
       "      <td>17.54</td>\n",
       "      <td>46.0</td>\n",
       "      <td>Average</td>\n",
       "    </tr>\n",
       "    <tr>\n",
       "      <th>997</th>\n",
       "      <td>998</td>\n",
       "      <td>Step Up 2: The Streets</td>\n",
       "      <td>Drama,Music,Romance</td>\n",
       "      <td>Romantic sparks occur between two dance studen...</td>\n",
       "      <td>Jon M. Chu</td>\n",
       "      <td>Robert Hoffman, Briana Evigan, Cassie Ventura,...</td>\n",
       "      <td>2008</td>\n",
       "      <td>98</td>\n",
       "      <td>6.2</td>\n",
       "      <td>70699</td>\n",
       "      <td>58.01</td>\n",
       "      <td>50.0</td>\n",
       "      <td>Good</td>\n",
       "    </tr>\n",
       "    <tr>\n",
       "      <th>999</th>\n",
       "      <td>1000</td>\n",
       "      <td>Nine Lives</td>\n",
       "      <td>Comedy,Family,Fantasy</td>\n",
       "      <td>A stuffy businessman finds himself trapped ins...</td>\n",
       "      <td>Barry Sonnenfeld</td>\n",
       "      <td>Kevin Spacey, Jennifer Garner, Robbie Amell,Ch...</td>\n",
       "      <td>2016</td>\n",
       "      <td>87</td>\n",
       "      <td>5.3</td>\n",
       "      <td>12435</td>\n",
       "      <td>19.64</td>\n",
       "      <td>11.0</td>\n",
       "      <td>Average</td>\n",
       "    </tr>\n",
       "  </tbody>\n",
       "</table>\n",
       "</div>"
      ],
      "text/plain": [
       "     Rank                     Title                    Genre  \\\n",
       "993   994  Resident Evil: Afterlife  Action,Adventure,Horror   \n",
       "994   995                 Project X                   Comedy   \n",
       "996   997           Hostel: Part II                   Horror   \n",
       "997   998    Step Up 2: The Streets      Drama,Music,Romance   \n",
       "999  1000                Nine Lives    Comedy,Family,Fantasy   \n",
       "\n",
       "                                           Description            Director  \\\n",
       "993  While still out to destroy the evil Umbrella C...  Paul W.S. Anderson   \n",
       "994  3 high school seniors throw a birthday party t...     Nima Nourizadeh   \n",
       "996  Three American college students studying abroa...            Eli Roth   \n",
       "997  Romantic sparks occur between two dance studen...          Jon M. Chu   \n",
       "999  A stuffy businessman finds himself trapped ins...    Barry Sonnenfeld   \n",
       "\n",
       "                                                Actors  Year  \\\n",
       "993  Milla Jovovich, Ali Larter, Wentworth Miller,K...  2010   \n",
       "994  Thomas Mann, Oliver Cooper, Jonathan Daniel Br...  2012   \n",
       "996  Lauren German, Heather Matarazzo, Bijou Philli...  2007   \n",
       "997  Robert Hoffman, Briana Evigan, Cassie Ventura,...  2008   \n",
       "999  Kevin Spacey, Jennifer Garner, Robbie Amell,Ch...  2016   \n",
       "\n",
       "     Runtime (Minutes)  Rating   Votes  Revenue (Millions)  Metascore  \\\n",
       "993                 97     5.9  140900               60.13       37.0   \n",
       "994                 88     6.7  164088               54.72       48.0   \n",
       "996                 94     5.5   73152               17.54       46.0   \n",
       "997                 98     6.2   70699               58.01       50.0   \n",
       "999                 87     5.3   12435               19.64       11.0   \n",
       "\n",
       "    rating_cat  \n",
       "993    Average  \n",
       "994       Good  \n",
       "996    Average  \n",
       "997       Good  \n",
       "999    Average  "
      ]
     },
     "execution_count": 193,
     "metadata": {},
     "output_type": "execute_result"
    }
   ],
   "source": [
    "data.tail(5)"
   ]
  },
  {
   "cell_type": "markdown",
   "metadata": {},
   "source": [
    "### 21. Count Number of Action Movies"
   ]
  },
  {
   "cell_type": "code",
   "execution_count": 194,
   "metadata": {},
   "outputs": [
    {
     "data": {
      "text/plain": [
       "Index(['Rank', 'Title', 'Genre', 'Description', 'Director', 'Actors', 'Year',\n",
       "       'Runtime (Minutes)', 'Rating', 'Votes', 'Revenue (Millions)',\n",
       "       'Metascore', 'rating_cat'],\n",
       "      dtype='object')"
      ]
     },
     "execution_count": 194,
     "metadata": {},
     "output_type": "execute_result"
    }
   ],
   "source": [
    "data.columns"
   ]
  },
  {
   "cell_type": "code",
   "execution_count": 195,
   "metadata": {},
   "outputs": [
    {
     "data": {
      "text/plain": [
       "dtype('O')"
      ]
     },
     "execution_count": 195,
     "metadata": {},
     "output_type": "execute_result"
    }
   ],
   "source": [
    "data['Genre'].dtype"
   ]
  },
  {
   "cell_type": "code",
   "execution_count": 196,
   "metadata": {},
   "outputs": [
    {
     "data": {
      "text/plain": [
       "277"
      ]
     },
     "execution_count": 196,
     "metadata": {},
     "output_type": "execute_result"
    }
   ],
   "source": [
    "len(data[data['Genre'].str.contains('action',case=False)])"
   ]
  },
  {
   "cell_type": "code",
   "execution_count": 197,
   "metadata": {},
   "outputs": [
    {
     "data": {
      "text/plain": [
       "Index(['Rank', 'Title', 'Genre', 'Description', 'Director', 'Actors', 'Year',\n",
       "       'Runtime (Minutes)', 'Rating', 'Votes', 'Revenue (Millions)',\n",
       "       'Metascore', 'rating_cat'],\n",
       "      dtype='object')"
      ]
     },
     "execution_count": 197,
     "metadata": {},
     "output_type": "execute_result"
    }
   ],
   "source": [
    "data.columns"
   ]
  },
  {
   "cell_type": "markdown",
   "metadata": {},
   "source": [
    "### 22. Find Unique Values From Genre "
   ]
  },
  {
   "cell_type": "code",
   "execution_count": 198,
   "metadata": {},
   "outputs": [
    {
     "data": {
      "text/plain": [
       "189"
      ]
     },
     "execution_count": 198,
     "metadata": {},
     "output_type": "execute_result"
    }
   ],
   "source": [
    "data['Genre'].nunique()"
   ]
  },
  {
   "cell_type": "code",
   "execution_count": 199,
   "metadata": {},
   "outputs": [
    {
     "data": {
      "text/plain": [
       "array(['Action,Adventure,Sci-Fi', 'Adventure,Mystery,Sci-Fi',\n",
       "       'Horror,Thriller', 'Animation,Comedy,Family',\n",
       "       'Action,Adventure,Fantasy', 'Comedy,Drama,Music',\n",
       "       'Action,Adventure,Biography', 'Adventure,Drama,Romance',\n",
       "       'Adventure,Family,Fantasy', 'Biography,Drama,History',\n",
       "       'Animation,Adventure,Comedy', 'Action,Comedy,Drama',\n",
       "       'Action,Thriller', 'Biography,Drama', 'Drama,Mystery,Sci-Fi',\n",
       "       'Adventure,Drama,Thriller', 'Drama', 'Comedy',\n",
       "       'Action,Adventure,Drama', 'Drama,Thriller',\n",
       "       'Action,Adventure,Comedy', 'Action,Horror,Sci-Fi',\n",
       "       'Adventure,Drama,Sci-Fi', 'Action,Adventure,Western',\n",
       "       'Comedy,Drama', 'Action,Crime,Thriller', 'Action,Crime,Drama',\n",
       "       'Adventure,Drama,History', 'Crime,Horror,Thriller',\n",
       "       'Drama,Romance', 'Comedy,Drama,Romance', 'Crime,Drama,Mystery',\n",
       "       'Drama,Romance,Thriller', 'Drama,History,Thriller',\n",
       "       'Action,Drama,Thriller', 'Action,Drama,Romance', 'Drama,Fantasy',\n",
       "       'Action,Sci-Fi', 'Adventure,Drama,War', 'Action,Comedy,Fantasy',\n",
       "       'Biography,Comedy,Crime', 'Crime,Drama', 'Comedy,Crime,Drama',\n",
       "       'Action,Comedy,Crime', 'Animation,Drama,Fantasy',\n",
       "       'Horror,Mystery,Sci-Fi', 'Drama,Mystery,Thriller',\n",
       "       'Crime,Drama,Thriller', 'Biography,Crime,Drama',\n",
       "       'Action,Horror,Thriller', 'Action,Fantasy,War',\n",
       "       'Adventure,Drama,Fantasy', 'Drama,Horror,Mystery',\n",
       "       'Adventure,Drama,Family', 'Adventure,Comedy,Romance',\n",
       "       'Adventure,Crime,Mystery', 'Comedy,Family,Musical',\n",
       "       'Adventure,Comedy,Drama', 'Drama,Horror,Thriller', 'Drama,Music',\n",
       "       'Mystery,Thriller', 'Comedy,Family', 'Biography,Comedy,Drama',\n",
       "       'Drama,Western', 'Drama,Mystery,Romance', 'Action,Drama,Mystery',\n",
       "       'Action,Adventure,Crime', 'Adventure,Sci-Fi,Thriller',\n",
       "       'Action,Comedy,Mystery', 'Action,Adventure,Thriller',\n",
       "       'Drama,Fantasy,Romance', 'Action,Drama,History',\n",
       "       'Animation,Adventure,Family', 'Drama,Romance,Sci-Fi',\n",
       "       'Action,Adventure,Family', 'Action,Comedy',\n",
       "       'Horror,Mystery,Thriller', 'Comedy,Romance', 'Horror,Mystery',\n",
       "       'Drama,Family,Fantasy', 'Drama,War', 'Drama,Fantasy,Horror',\n",
       "       'Crime,Drama,History', 'Horror,Sci-Fi,Thriller',\n",
       "       'Action,Drama,Sport', 'Adventure,Biography,Drama',\n",
       "       'Biography,Drama,Thriller', 'Action,Adventure,Mystery',\n",
       "       'Drama,Horror', 'Comedy,Crime', 'Drama,Fantasy,War',\n",
       "       'Action,Adventure,Romance', 'Action,Drama,War',\n",
       "       'Drama,Musical,Romance', 'Drama,Sci-Fi,Thriller',\n",
       "       'Action,Drama,Sci-Fi', 'Horror', 'Drama,Sci-Fi',\n",
       "       'Adventure,Fantasy', 'Crime,Mystery,Thriller',\n",
       "       'Biography,Drama,Romance', 'Action,Adventure', 'Action,Fantasy',\n",
       "       'Action,Drama,Horror', 'Comedy,Music,Romance', 'Drama,History',\n",
       "       'Action,Biography,Drama', 'Biography,Drama,Sport',\n",
       "       'Comedy,Horror,Thriller', 'Crime,Drama,Music',\n",
       "       'Action,Sci-Fi,Thriller', 'Drama,Horror,Sci-Fi', 'Comedy,Horror',\n",
       "       'Comedy,Fantasy,Romance', 'Comedy,Fantasy', 'Comedy,Drama,Fantasy',\n",
       "       'Adventure,Comedy,Horror', 'Comedy,Mystery',\n",
       "       'Action,Mystery,Sci-Fi', 'Action,Crime,Fantasy', 'Drama,Sport',\n",
       "       'Comedy,Fantasy,Horror', 'Animation,Action,Adventure',\n",
       "       'Action,Comedy,Family', 'Adventure,Comedy', 'Comedy,Music',\n",
       "       'Comedy,Drama,Horror', 'Action,Horror,Romance',\n",
       "       'Action,Drama,Fantasy', 'Action,Mystery,Thriller',\n",
       "       'Action,Adventure,Horror', 'Animation,Family,Fantasy',\n",
       "       'Action,Horror,Mystery', 'Adventure,Comedy,Family',\n",
       "       'Action,Crime,Mystery', 'Comedy,Drama,Family',\n",
       "       'Action,Crime,Sport', 'Mystery,Sci-Fi,Thriller', 'Sci-Fi,Thriller',\n",
       "       'Adventure,Drama,Horror', 'Biography,History,Thriller',\n",
       "       'Adventure,Horror', 'Adventure,Comedy,Sci-Fi', 'Fantasy,Horror',\n",
       "       'Action', 'Action,Fantasy,Thriller', 'Comedy,Romance,Sport',\n",
       "       'Animation,Action,Comedy', 'Drama,Fantasy,Thriller', 'Sci-Fi',\n",
       "       'Action,Comedy,Romance', 'Action,Fantasy,Horror',\n",
       "       'Mystery,Romance,Sci-Fi', 'Comedy,Drama,Thriller',\n",
       "       'Drama,History,War', 'Drama,Horror,Musical', 'Animation,Fantasy',\n",
       "       'Drama,Mystery,War', 'Action,Drama,Family', 'Thriller',\n",
       "       'Adventure,Drama,Western', 'Drama,Music,Romance',\n",
       "       'Comedy,Romance,Western', 'Drama,Thriller,War',\n",
       "       'Drama,Fantasy,Mystery', 'Comedy,Crime,Thriller',\n",
       "       'Animation,Comedy,Drama', 'Action,Comedy,Sci-Fi',\n",
       "       'Adventure,Fantasy,Mystery', 'Mystery,Romance,Thriller',\n",
       "       'Biography,Drama,Mystery', 'Comedy,Horror,Romance',\n",
       "       'Action,Thriller,War', 'Action,Crime,Sci-Fi', 'Crime,Thriller',\n",
       "       'Comedy,Horror,Sci-Fi', 'Crime,Drama,Fantasy',\n",
       "       'Action,Comedy,Horror', 'Drama,Fantasy,Music',\n",
       "       'Action,Comedy,Sport', 'Adventure', 'Comedy,Drama,Musical',\n",
       "       'Comedy,Family,Romance', 'Biography,Drama,Family',\n",
       "       'Drama,Fantasy,Musical', 'Adventure,Family',\n",
       "       'Adventure,Comedy,Fantasy', 'Drama,Family,Music',\n",
       "       'Comedy,Family,Fantasy'], dtype=object)"
      ]
     },
     "execution_count": 199,
     "metadata": {},
     "output_type": "execute_result"
    }
   ],
   "source": [
    "data['Genre'].unique()"
   ]
  },
  {
   "cell_type": "markdown",
   "metadata": {},
   "source": [
    "### 23. How Many Films of Each Genre Were Made"
   ]
  },
  {
   "cell_type": "code",
   "execution_count": 200,
   "metadata": {},
   "outputs": [],
   "source": [
    "from collections import Counter"
   ]
  },
  {
   "cell_type": "code",
   "execution_count": 201,
   "metadata": {},
   "outputs": [],
   "source": [
    "list1=[]\n",
    "for value in data['Genre']:\n",
    "    list1.append(value.split(','))"
   ]
  },
  {
   "cell_type": "code",
   "execution_count": 202,
   "metadata": {},
   "outputs": [
    {
     "data": {
      "text/plain": [
       "[['Action', 'Adventure', 'Sci-Fi'],\n",
       " ['Adventure', 'Mystery', 'Sci-Fi'],\n",
       " ['Horror', 'Thriller'],\n",
       " ['Animation', 'Comedy', 'Family'],\n",
       " ['Action', 'Adventure', 'Fantasy'],\n",
       " ['Action', 'Adventure', 'Fantasy'],\n",
       " ['Comedy', 'Drama', 'Music'],\n",
       " ['Action', 'Adventure', 'Biography'],\n",
       " ['Adventure', 'Drama', 'Romance'],\n",
       " ['Adventure', 'Family', 'Fantasy'],\n",
       " ['Biography', 'Drama', 'History'],\n",
       " ['Action', 'Adventure', 'Sci-Fi'],\n",
       " ['Animation', 'Adventure', 'Comedy'],\n",
       " ['Action', 'Comedy', 'Drama'],\n",
       " ['Animation', 'Adventure', 'Comedy'],\n",
       " ['Biography', 'Drama', 'History'],\n",
       " ['Action', 'Thriller'],\n",
       " ['Biography', 'Drama'],\n",
       " ['Drama', 'Mystery', 'Sci-Fi'],\n",
       " ['Adventure', 'Drama', 'Thriller'],\n",
       " ['Drama'],\n",
       " ['Animation', 'Adventure', 'Comedy'],\n",
       " ['Action', 'Adventure', 'Sci-Fi'],\n",
       " ['Comedy'],\n",
       " ['Action', 'Adventure', 'Drama'],\n",
       " ['Comedy'],\n",
       " ['Drama', 'Thriller'],\n",
       " ['Action', 'Adventure', 'Sci-Fi'],\n",
       " ['Action', 'Adventure', 'Comedy'],\n",
       " ['Action', 'Horror', 'Sci-Fi'],\n",
       " ['Action', 'Adventure', 'Sci-Fi'],\n",
       " ['Adventure', 'Drama', 'Sci-Fi'],\n",
       " ['Action', 'Adventure', 'Fantasy'],\n",
       " ['Action', 'Adventure', 'Western'],\n",
       " ['Animation', 'Adventure', 'Comedy'],\n",
       " ['Drama'],\n",
       " ['Biography', 'Drama', 'History'],\n",
       " ['Drama'],\n",
       " ['Action', 'Adventure', 'Fantasy'],\n",
       " ['Drama', 'Thriller'],\n",
       " ['Action', 'Adventure', 'Sci-Fi'],\n",
       " ['Action', 'Adventure', 'Fantasy'],\n",
       " ['Action', 'Adventure', 'Fantasy'],\n",
       " ['Comedy', 'Drama'],\n",
       " ['Action', 'Crime', 'Thriller'],\n",
       " ['Action', 'Crime', 'Drama'],\n",
       " ['Adventure', 'Drama', 'History'],\n",
       " ['Crime', 'Horror', 'Thriller'],\n",
       " ['Drama', 'Romance'],\n",
       " ['Comedy', 'Drama', 'Romance'],\n",
       " ['Biography', 'Drama'],\n",
       " ['Action', 'Adventure', 'Sci-Fi'],\n",
       " ['Crime', 'Drama', 'Mystery'],\n",
       " ['Drama', 'Romance', 'Thriller'],\n",
       " ['Drama', 'Mystery', 'Sci-Fi'],\n",
       " ['Action', 'Adventure', 'Comedy'],\n",
       " ['Drama', 'History', 'Thriller'],\n",
       " ['Action', 'Adventure', 'Sci-Fi'],\n",
       " ['Drama'],\n",
       " ['Action', 'Drama', 'Thriller'],\n",
       " ['Action', 'Drama', 'Romance'],\n",
       " ['Drama', 'Fantasy'],\n",
       " ['Drama', 'Romance'],\n",
       " ['Animation', 'Adventure', 'Comedy'],\n",
       " ['Action', 'Adventure', 'Fantasy'],\n",
       " ['Action', 'Sci-Fi'],\n",
       " ['Adventure', 'Drama', 'War'],\n",
       " ['Action', 'Adventure', 'Fantasy'],\n",
       " ['Action', 'Comedy', 'Fantasy'],\n",
       " ['Action', 'Adventure', 'Sci-Fi'],\n",
       " ['Comedy', 'Drama'],\n",
       " ['Biography', 'Comedy', 'Crime'],\n",
       " ['Crime', 'Drama', 'Mystery'],\n",
       " ['Action', 'Crime', 'Thriller'],\n",
       " ['Action', 'Adventure', 'Sci-Fi'],\n",
       " ['Crime', 'Drama'],\n",
       " ['Action', 'Adventure', 'Fantasy'],\n",
       " ['Crime', 'Drama', 'Mystery'],\n",
       " ['Action', 'Crime', 'Drama'],\n",
       " ['Crime', 'Drama', 'Mystery'],\n",
       " ['Action', 'Adventure', 'Fantasy'],\n",
       " ['Drama'],\n",
       " ['Comedy', 'Crime', 'Drama'],\n",
       " ['Action', 'Adventure', 'Sci-Fi'],\n",
       " ['Action', 'Comedy', 'Crime'],\n",
       " ['Animation', 'Drama', 'Fantasy'],\n",
       " ['Horror', 'Mystery', 'Sci-Fi'],\n",
       " ['Drama', 'Mystery', 'Thriller'],\n",
       " ['Crime', 'Drama', 'Thriller'],\n",
       " ['Biography', 'Crime', 'Drama'],\n",
       " ['Action', 'Adventure', 'Fantasy'],\n",
       " ['Adventure', 'Drama', 'Sci-Fi'],\n",
       " ['Action', 'Adventure', 'Comedy'],\n",
       " ['Crime', 'Drama', 'Thriller'],\n",
       " ['Comedy'],\n",
       " ['Action', 'Adventure', 'Drama'],\n",
       " ['Drama', 'Mystery', 'Sci-Fi'],\n",
       " ['Action', 'Horror', 'Thriller'],\n",
       " ['Biography', 'Drama', 'History'],\n",
       " ['Action', 'Fantasy', 'War'],\n",
       " ['Adventure', 'Drama', 'Fantasy'],\n",
       " ['Comedy'],\n",
       " ['Horror', 'Thriller'],\n",
       " ['Drama', 'Horror', 'Mystery'],\n",
       " ['Animation', 'Adventure', 'Comedy'],\n",
       " ['Adventure', 'Drama', 'Family'],\n",
       " ['Adventure', 'Mystery', 'Sci-Fi'],\n",
       " ['Adventure', 'Comedy', 'Romance'],\n",
       " ['Action', 'Thriller'],\n",
       " ['Adventure', 'Drama', 'Family'],\n",
       " ['Action', 'Adventure', 'Sci-Fi'],\n",
       " ['Adventure', 'Crime', 'Mystery'],\n",
       " ['Comedy', 'Family', 'Musical'],\n",
       " ['Adventure', 'Drama', 'Thriller'],\n",
       " ['Drama'],\n",
       " ['Adventure', 'Comedy', 'Drama'],\n",
       " ['Drama', 'Horror', 'Thriller'],\n",
       " ['Drama', 'Music'],\n",
       " ['Action', 'Crime', 'Thriller'],\n",
       " ['Crime', 'Drama', 'Thriller'],\n",
       " ['Crime', 'Drama', 'Thriller'],\n",
       " ['Drama', 'Romance'],\n",
       " ['Mystery', 'Thriller'],\n",
       " ['Action', 'Adventure', 'Sci-Fi'],\n",
       " ['Comedy', 'Family'],\n",
       " ['Biography', 'Comedy', 'Drama'],\n",
       " ['Drama'],\n",
       " ['Drama', 'Western'],\n",
       " ['Drama', 'Mystery', 'Romance'],\n",
       " ['Comedy', 'Drama'],\n",
       " ['Action', 'Drama', 'Mystery'],\n",
       " ['Comedy'],\n",
       " ['Action', 'Adventure', 'Crime'],\n",
       " ['Adventure', 'Family', 'Fantasy'],\n",
       " ['Adventure', 'Sci-Fi', 'Thriller'],\n",
       " ['Drama'],\n",
       " ['Action', 'Crime', 'Drama'],\n",
       " ['Action', 'Horror', 'Sci-Fi'],\n",
       " ['Action', 'Adventure', 'Sci-Fi'],\n",
       " ['Comedy', 'Drama', 'Romance'],\n",
       " ['Action', 'Comedy', 'Fantasy'],\n",
       " ['Action', 'Comedy', 'Mystery'],\n",
       " ['Action', 'Comedy', 'Crime'],\n",
       " ['Action', 'Adventure', 'Sci-Fi'],\n",
       " ['Action', 'Adventure', 'Crime'],\n",
       " ['Action', 'Adventure', 'Thriller'],\n",
       " ['Drama', 'Fantasy', 'Romance'],\n",
       " ['Action', 'Adventure', 'Comedy'],\n",
       " ['Biography', 'Drama', 'History'],\n",
       " ['Action', 'Drama', 'History'],\n",
       " ['Action', 'Adventure', 'Thriller'],\n",
       " ['Crime', 'Drama', 'Thriller'],\n",
       " ['Animation', 'Adventure', 'Family'],\n",
       " ['Drama', 'Romance', 'Sci-Fi'],\n",
       " ['Animation', 'Adventure', 'Comedy'],\n",
       " ['Action', 'Adventure', 'Family'],\n",
       " ['Action', 'Adventure', 'Drama'],\n",
       " ['Action', 'Comedy'],\n",
       " ['Horror', 'Mystery', 'Thriller'],\n",
       " ['Action', 'Adventure', 'Comedy'],\n",
       " ['Comedy', 'Romance'],\n",
       " ['Horror', 'Mystery'],\n",
       " ['Drama', 'Family', 'Fantasy'],\n",
       " ['Drama', 'Thriller'],\n",
       " ['Drama', 'War'],\n",
       " ['Drama', 'Fantasy', 'Horror'],\n",
       " ['Crime', 'Drama'],\n",
       " ['Comedy', 'Drama', 'Romance'],\n",
       " ['Drama', 'Romance'],\n",
       " ['Crime', 'Drama', 'History'],\n",
       " ['Horror', 'Sci-Fi', 'Thriller'],\n",
       " ['Action', 'Drama', 'Sport'],\n",
       " ['Action', 'Adventure', 'Sci-Fi'],\n",
       " ['Adventure', 'Biography', 'Drama'],\n",
       " ['Biography', 'Drama', 'Thriller'],\n",
       " ['Action', 'Comedy', 'Crime'],\n",
       " ['Action', 'Adventure', 'Sci-Fi'],\n",
       " ['Drama', 'Fantasy', 'Horror'],\n",
       " ['Biography', 'Drama', 'Thriller'],\n",
       " ['Action', 'Adventure', 'Sci-Fi'],\n",
       " ['Action', 'Adventure', 'Mystery'],\n",
       " ['Action', 'Adventure', 'Sci-Fi'],\n",
       " ['Drama', 'Horror'],\n",
       " ['Comedy', 'Drama', 'Romance'],\n",
       " ['Comedy', 'Romance'],\n",
       " ['Action', 'Adventure', 'Drama'],\n",
       " ['Drama'],\n",
       " ['Action', 'Adventure', 'Sci-Fi'],\n",
       " ['Action', 'Adventure', 'Fantasy'],\n",
       " ['Action', 'Adventure', 'Fantasy'],\n",
       " ['Action', 'Adventure', 'Sci-Fi'],\n",
       " ['Action', 'Adventure', 'Comedy'],\n",
       " ['Action', 'Comedy'],\n",
       " ['Action', 'Adventure', 'Sci-Fi'],\n",
       " ['Animation', 'Adventure', 'Comedy'],\n",
       " ['Horror', 'Mystery'],\n",
       " ['Crime', 'Drama', 'Mystery'],\n",
       " ['Comedy', 'Crime'],\n",
       " ['Drama'],\n",
       " ['Comedy', 'Drama', 'Romance'],\n",
       " ['Action', 'Adventure', 'Sci-Fi'],\n",
       " ['Action', 'Adventure', 'Family'],\n",
       " ['Drama', 'Fantasy', 'War'],\n",
       " ['Crime', 'Drama', 'Thriller'],\n",
       " ['Action', 'Adventure', 'Drama'],\n",
       " ['Action', 'Adventure', 'Thriller'],\n",
       " ['Action', 'Adventure', 'Drama'],\n",
       " ['Drama', 'Romance'],\n",
       " ['Biography', 'Drama', 'History'],\n",
       " ['Drama', 'Horror', 'Thriller'],\n",
       " ['Adventure', 'Comedy', 'Drama'],\n",
       " ['Action', 'Adventure', 'Romance'],\n",
       " ['Action', 'Drama', 'War'],\n",
       " ['Animation', 'Adventure', 'Comedy'],\n",
       " ['Animation', 'Adventure', 'Comedy'],\n",
       " ['Action', 'Adventure', 'Sci-Fi'],\n",
       " ['Adventure', 'Family', 'Fantasy'],\n",
       " ['Drama', 'Musical', 'Romance'],\n",
       " ['Drama', 'Sci-Fi', 'Thriller'],\n",
       " ['Comedy', 'Drama'],\n",
       " ['Action', 'Comedy', 'Crime'],\n",
       " ['Biography', 'Comedy', 'Drama'],\n",
       " ['Comedy', 'Drama', 'Romance'],\n",
       " ['Drama', 'Thriller'],\n",
       " ['Biography', 'Drama', 'History'],\n",
       " ['Action', 'Adventure', 'Sci-Fi'],\n",
       " ['Horror', 'Mystery', 'Thriller'],\n",
       " ['Comedy'],\n",
       " ['Action', 'Adventure', 'Sci-Fi'],\n",
       " ['Action', 'Drama', 'Sci-Fi'],\n",
       " ['Horror'],\n",
       " ['Drama', 'Thriller'],\n",
       " ['Comedy', 'Drama', 'Romance'],\n",
       " ['Drama', 'Thriller'],\n",
       " ['Comedy', 'Drama'],\n",
       " ['Drama'],\n",
       " ['Action', 'Adventure', 'Comedy'],\n",
       " ['Drama', 'Horror', 'Thriller'],\n",
       " ['Comedy'],\n",
       " ['Drama', 'Sci-Fi'],\n",
       " ['Action', 'Adventure', 'Sci-Fi'],\n",
       " ['Action', 'Adventure', 'Thriller'],\n",
       " ['Adventure', 'Fantasy'],\n",
       " ['Action', 'Comedy', 'Crime'],\n",
       " ['Comedy', 'Drama', 'Music'],\n",
       " ['Action', 'Adventure', 'Mystery'],\n",
       " ['Action', 'Comedy', 'Crime'],\n",
       " ['Crime', 'Drama', 'History'],\n",
       " ['Comedy'],\n",
       " ['Action', 'Adventure', 'Sci-Fi'],\n",
       " ['Crime', 'Mystery', 'Thriller'],\n",
       " ['Action', 'Adventure', 'Crime'],\n",
       " ['Biography', 'Drama', 'Romance'],\n",
       " ['Action', 'Adventure'],\n",
       " ['Action', 'Fantasy'],\n",
       " ['Action', 'Comedy'],\n",
       " ['Action', 'Adventure', 'Sci-Fi'],\n",
       " ['Action', 'Comedy', 'Crime'],\n",
       " ['Action', 'Drama', 'Horror'],\n",
       " ['Comedy', 'Music', 'Romance'],\n",
       " ['Comedy'],\n",
       " ['Action', 'Adventure', 'Fantasy'],\n",
       " ['Drama', 'Romance'],\n",
       " ['Animation', 'Adventure', 'Comedy'],\n",
       " ['Comedy', 'Drama'],\n",
       " ['Biography', 'Crime', 'Drama'],\n",
       " ['Drama', 'History'],\n",
       " ['Action', 'Crime', 'Thriller'],\n",
       " ['Action', 'Biography', 'Drama'],\n",
       " ['Horror'],\n",
       " ['Comedy', 'Romance'],\n",
       " ['Comedy', 'Romance'],\n",
       " ['Comedy', 'Crime', 'Drama'],\n",
       " ['Adventure', 'Family', 'Fantasy'],\n",
       " ['Action', 'Crime', 'Thriller'],\n",
       " ['Comedy', 'Romance'],\n",
       " ['Biography', 'Drama', 'Sport'],\n",
       " ['Drama', 'Romance'],\n",
       " ['Drama', 'Horror'],\n",
       " ['Adventure', 'Fantasy'],\n",
       " ['Adventure', 'Family', 'Fantasy'],\n",
       " ['Action', 'Drama', 'Sci-Fi'],\n",
       " ['Action', 'Adventure', 'Sci-Fi'],\n",
       " ['Comedy', 'Horror', 'Thriller'],\n",
       " ['Action', 'Crime', 'Thriller'],\n",
       " ['Crime', 'Drama', 'Music'],\n",
       " ['Drama'],\n",
       " ['Action', 'Crime', 'Thriller'],\n",
       " ['Action', 'Sci-Fi', 'Thriller'],\n",
       " ['Biography', 'Drama'],\n",
       " ['Action', 'Adventure', 'Fantasy'],\n",
       " ['Drama', 'Horror', 'Sci-Fi'],\n",
       " ['Biography', 'Comedy', 'Drama'],\n",
       " ['Crime', 'Horror', 'Thriller'],\n",
       " ['Crime', 'Drama', 'Mystery'],\n",
       " ['Animation', 'Adventure', 'Comedy'],\n",
       " ['Action', 'Biography', 'Drama'],\n",
       " ['Biography', 'Drama'],\n",
       " ['Biography', 'Drama', 'History'],\n",
       " ['Action', 'Biography', 'Drama'],\n",
       " ['Comedy', 'Drama', 'Romance'],\n",
       " ['Drama', 'Romance'],\n",
       " ['Comedy', 'Romance'],\n",
       " ['Action', 'Crime', 'Thriller'],\n",
       " ['Action', 'Crime', 'Drama'],\n",
       " ['Action', 'Drama', 'Thriller'],\n",
       " ['Adventure', 'Family', 'Fantasy'],\n",
       " ['Action', 'Adventure'],\n",
       " ['Action', 'Adventure', 'Romance'],\n",
       " ['Adventure', 'Family', 'Fantasy'],\n",
       " ['Crime', 'Drama'],\n",
       " ['Comedy', 'Horror'],\n",
       " ['Comedy', 'Fantasy', 'Romance'],\n",
       " ['Drama'],\n",
       " ['Comedy', 'Drama'],\n",
       " ['Comedy', 'Drama', 'Romance'],\n",
       " ['Adventure', 'Sci-Fi', 'Thriller'],\n",
       " ['Action', 'Adventure', 'Fantasy'],\n",
       " ['Biography', 'Drama', 'Romance'],\n",
       " ['Comedy', 'Fantasy'],\n",
       " ['Comedy', 'Drama', 'Fantasy'],\n",
       " ['Comedy'],\n",
       " ['Horror', 'Thriller'],\n",
       " ['Action', 'Adventure', 'Sci-Fi'],\n",
       " ['Adventure', 'Comedy', 'Horror'],\n",
       " ['Comedy', 'Mystery'],\n",
       " ['Drama'],\n",
       " ['Adventure', 'Drama', 'Fantasy'],\n",
       " ['Action', 'Adventure'],\n",
       " ['Action', 'Adventure', 'Drama'],\n",
       " ['Action', 'Drama', 'Sci-Fi'],\n",
       " ['Action', 'Mystery', 'Sci-Fi'],\n",
       " ['Action', 'Crime', 'Drama'],\n",
       " ['Action', 'Crime', 'Fantasy'],\n",
       " ['Biography', 'Comedy', 'Drama'],\n",
       " ['Action', 'Crime', 'Thriller'],\n",
       " ['Biography', 'Crime', 'Drama'],\n",
       " ['Drama', 'Sport'],\n",
       " ['Adventure', 'Comedy', 'Drama'],\n",
       " ['Action', 'Adventure', 'Thriller'],\n",
       " ['Comedy', 'Fantasy', 'Horror'],\n",
       " ['Drama', 'Sport'],\n",
       " ['Drama', 'History', 'Thriller'],\n",
       " ['Animation', 'Action', 'Adventure'],\n",
       " ['Action', 'Adventure', 'Drama'],\n",
       " ['Action', 'Comedy', 'Family'],\n",
       " ['Action', 'Adventure', 'Drama'],\n",
       " ['Action', 'Adventure', 'Sci-Fi'],\n",
       " ['Action', 'Adventure', 'Sci-Fi'],\n",
       " ['Action', 'Comedy'],\n",
       " ['Action', 'Crime', 'Drama'],\n",
       " ['Biography', 'Drama'],\n",
       " ['Comedy'],\n",
       " ['Drama', 'Fantasy', 'Romance'],\n",
       " ['Action', 'Adventure', 'Sci-Fi'],\n",
       " ['Comedy'],\n",
       " ['Comedy', 'Drama'],\n",
       " ['Animation', 'Action', 'Adventure'],\n",
       " ['Animation', 'Adventure', 'Comedy'],\n",
       " ['Drama', 'Romance'],\n",
       " ['Drama', 'Mystery', 'Thriller'],\n",
       " ['Drama', 'History', 'Thriller'],\n",
       " ['Animation', 'Adventure', 'Comedy'],\n",
       " ['Action', 'Adventure', 'Sci-Fi'],\n",
       " ['Adventure', 'Comedy'],\n",
       " ['Action', 'Thriller'],\n",
       " ['Comedy', 'Music'],\n",
       " ['Animation', 'Adventure', 'Comedy'],\n",
       " ['Action', 'Adventure', 'Crime'],\n",
       " ['Comedy', 'Drama', 'Horror'],\n",
       " ['Adventure', 'Family', 'Fantasy'],\n",
       " ['Drama'],\n",
       " ['Action', 'Drama', 'Thriller'],\n",
       " ['Drama'],\n",
       " ['Action', 'Horror', 'Romance'],\n",
       " ['Action', 'Drama', 'Fantasy'],\n",
       " ['Action', 'Crime', 'Drama'],\n",
       " ['Drama', 'Fantasy', 'Romance'],\n",
       " ['Action', 'Crime', 'Thriller'],\n",
       " ['Action', 'Mystery', 'Thriller'],\n",
       " ['Comedy', 'Drama'],\n",
       " ['Comedy'],\n",
       " ['Action', 'Adventure', 'Horror'],\n",
       " ['Action', 'Adventure', 'Thriller'],\n",
       " ['Drama', 'Romance'],\n",
       " ['Drama', 'Thriller'],\n",
       " ['Action', 'Comedy', 'Crime'],\n",
       " ['Adventure', 'Family', 'Fantasy'],\n",
       " ['Drama', 'Romance'],\n",
       " ['Animation', 'Family', 'Fantasy'],\n",
       " ['Drama', 'Romance'],\n",
       " ['Action', 'Sci-Fi'],\n",
       " ['Adventure', 'Comedy', 'Drama'],\n",
       " ['Animation', 'Action', 'Adventure'],\n",
       " ['Drama', 'Horror'],\n",
       " ['Action', 'Adventure', 'Sci-Fi'],\n",
       " ['Comedy', 'Drama'],\n",
       " ['Action', 'Horror', 'Mystery'],\n",
       " ['Action', 'Thriller'],\n",
       " ['Action', 'Adventure', 'Sci-Fi'],\n",
       " ['Drama'],\n",
       " ['Comedy', 'Drama', 'Romance'],\n",
       " ['Comedy', 'Crime'],\n",
       " ['Comedy', 'Romance'],\n",
       " ['Drama', 'Romance'],\n",
       " ['Crime', 'Drama', 'Thriller'],\n",
       " ['Horror', 'Mystery', 'Thriller'],\n",
       " ['Biography', 'Drama'],\n",
       " ['Adventure', 'Comedy', 'Family'],\n",
       " ['Action', 'Adventure', 'Crime'],\n",
       " ['Action', 'Crime', 'Mystery'],\n",
       " ['Mystery', 'Thriller'],\n",
       " ['Action', 'Sci-Fi', 'Thriller'],\n",
       " ['Action', 'Comedy', 'Crime'],\n",
       " ['Biography', 'Crime', 'Drama'],\n",
       " ['Biography', 'Drama', 'History'],\n",
       " ['Action', 'Adventure', 'Sci-Fi'],\n",
       " ['Adventure', 'Family', 'Fantasy'],\n",
       " ['Biography', 'Drama', 'History'],\n",
       " ['Biography', 'Comedy', 'Drama'],\n",
       " ['Drama', 'Thriller'],\n",
       " ['Comedy', 'Drama', 'Romance'],\n",
       " ['Drama', 'Romance', 'Sci-Fi'],\n",
       " ['Action', 'Crime', 'Drama'],\n",
       " ['Adventure', 'Comedy', 'Drama'],\n",
       " ['Comedy', 'Drama', 'Family'],\n",
       " ['Drama', 'Romance', 'Thriller'],\n",
       " ['Comedy', 'Crime', 'Drama'],\n",
       " ['Animation', 'Comedy', 'Family'],\n",
       " ['Drama', 'Horror', 'Sci-Fi'],\n",
       " ['Action', 'Adventure', 'Drama'],\n",
       " ['Action', 'Horror', 'Sci-Fi'],\n",
       " ['Action', 'Crime', 'Sport'],\n",
       " ['Drama', 'Horror', 'Sci-Fi'],\n",
       " ['Drama', 'Horror', 'Sci-Fi'],\n",
       " ['Action', 'Adventure', 'Comedy'],\n",
       " ['Mystery', 'Sci-Fi', 'Thriller'],\n",
       " ['Crime', 'Drama', 'Thriller'],\n",
       " ['Animation', 'Adventure', 'Comedy'],\n",
       " ['Action', 'Sci-Fi', 'Thriller'],\n",
       " ['Drama', 'Romance'],\n",
       " ['Comedy', 'Drama', 'Music'],\n",
       " ['Crime', 'Drama', 'Thriller'],\n",
       " ['Comedy', 'Drama', 'Romance'],\n",
       " ['Comedy', 'Romance'],\n",
       " ['Drama', 'Sci-Fi', 'Thriller'],\n",
       " ['Drama', 'War'],\n",
       " ['Action', 'Crime', 'Drama'],\n",
       " ['Sci-Fi', 'Thriller'],\n",
       " ['Adventure', 'Drama', 'Horror'],\n",
       " ['Comedy', 'Drama', 'Romance'],\n",
       " ['Action', 'Adventure', 'Drama'],\n",
       " ['Action', 'Crime', 'Drama'],\n",
       " ['Adventure', 'Fantasy'],\n",
       " ['Drama', 'Romance'],\n",
       " ['Biography', 'History', 'Thriller'],\n",
       " ['Crime', 'Drama', 'Thriller'],\n",
       " ['Action', 'Drama', 'History'],\n",
       " ['Crime', 'Drama', 'Thriller'],\n",
       " ['Action', 'Biography', 'Drama'],\n",
       " ['Adventure', 'Horror'],\n",
       " ['Action', 'Adventure', 'Sci-Fi'],\n",
       " ['Action', 'Adventure', 'Mystery'],\n",
       " ['Comedy', 'Drama', 'Romance'],\n",
       " ['Horror', 'Thriller'],\n",
       " ['Action', 'Sci-Fi', 'Thriller'],\n",
       " ['Biography', 'Drama'],\n",
       " ['Action', 'Crime', 'Drama'],\n",
       " ['Action', 'Crime', 'Mystery'],\n",
       " ['Action', 'Adventure', 'Comedy'],\n",
       " ['Mystery', 'Thriller'],\n",
       " ['Mystery', 'Sci-Fi', 'Thriller'],\n",
       " ['Drama', 'Mystery', 'Sci-Fi'],\n",
       " ['Comedy', 'Drama'],\n",
       " ['Adventure', 'Family', 'Fantasy'],\n",
       " ['Biography', 'Drama', 'Sport'],\n",
       " ['Comedy', 'Drama', 'Romance'],\n",
       " ['Biography', 'Drama', 'Romance'],\n",
       " ['Action', 'Adventure', 'Sci-Fi'],\n",
       " ['Mystery', 'Thriller'],\n",
       " ['Mystery', 'Thriller'],\n",
       " ['Action', 'Drama', 'Fantasy'],\n",
       " ['Action', 'Adventure', 'Biography'],\n",
       " ['Adventure', 'Comedy', 'Sci-Fi'],\n",
       " ['Action', 'Adventure', 'Thriller'],\n",
       " ['Fantasy', 'Horror'],\n",
       " ['Horror', 'Mystery'],\n",
       " ['Animation', 'Adventure', 'Comedy'],\n",
       " ['Action', 'Adventure', 'Drama'],\n",
       " ['Adventure', 'Family', 'Fantasy'],\n",
       " ['Action', 'Adventure', 'Sci-Fi'],\n",
       " ['Comedy', 'Drama'],\n",
       " ['Comedy', 'Drama'],\n",
       " ['Crime', 'Drama', 'Thriller'],\n",
       " ['Comedy', 'Romance'],\n",
       " ['Animation', 'Comedy', 'Family'],\n",
       " ['Comedy', 'Drama'],\n",
       " ['Comedy', 'Drama'],\n",
       " ['Biography', 'Drama', 'Sport'],\n",
       " ['Action', 'Adventure', 'Fantasy'],\n",
       " ['Action', 'Drama', 'History'],\n",
       " ['Action', 'Adventure', 'Sci-Fi'],\n",
       " ['Action', 'Adventure', 'Mystery'],\n",
       " ['Crime', 'Drama', 'Mystery'],\n",
       " ['Action'],\n",
       " ['Comedy', 'Romance'],\n",
       " ['Comedy', 'Drama', 'Romance'],\n",
       " ['Biography', 'Drama', 'Sport'],\n",
       " ['Action', 'Fantasy', 'Thriller'],\n",
       " ['Biography', 'Drama', 'Sport'],\n",
       " ['Action', 'Drama', 'Fantasy'],\n",
       " ['Adventure', 'Sci-Fi', 'Thriller'],\n",
       " ['Animation', 'Adventure', 'Comedy'],\n",
       " ['Drama', 'Mystery', 'Thriller'],\n",
       " ['Drama', 'Romance'],\n",
       " ['Crime', 'Drama', 'Mystery'],\n",
       " ['Comedy', 'Romance', 'Sport'],\n",
       " ['Comedy', 'Family'],\n",
       " ['Drama', 'Horror', 'Mystery'],\n",
       " ['Action', 'Drama', 'Sport'],\n",
       " ['Action', 'Adventure', 'Comedy'],\n",
       " ['Drama', 'Mystery', 'Sci-Fi'],\n",
       " ['Animation', 'Action', 'Comedy'],\n",
       " ['Action', 'Crime', 'Drama'],\n",
       " ['Action', 'Crime', 'Drama'],\n",
       " ['Animation', 'Action', 'Adventure'],\n",
       " ['Crime', 'Drama'],\n",
       " ['Comedy', 'Crime'],\n",
       " ['Drama'],\n",
       " ['Action', 'Adventure', 'Fantasy'],\n",
       " ['Drama', 'Fantasy', 'Romance'],\n",
       " ['Comedy', 'Drama'],\n",
       " ['Drama', 'Fantasy', 'Thriller'],\n",
       " ['Biography', 'Crime', 'Drama'],\n",
       " ['Comedy', 'Drama', 'Romance'],\n",
       " ['Action', 'Crime', 'Drama'],\n",
       " ['Sci-Fi'],\n",
       " ['Action', 'Comedy', 'Romance'],\n",
       " ['Adventure', 'Comedy', 'Drama'],\n",
       " ['Comedy', 'Crime', 'Drama'],\n",
       " ['Action', 'Fantasy', 'Horror'],\n",
       " ['Drama', 'Horror'],\n",
       " ['Horror'],\n",
       " ['Action', 'Thriller'],\n",
       " ['Action', 'Adventure', 'Mystery'],\n",
       " ['Action', 'Adventure', 'Fantasy'],\n",
       " ['Adventure', 'Comedy', 'Family'],\n",
       " ['Comedy', 'Drama', 'Romance'],\n",
       " ['Comedy'],\n",
       " ['Comedy', 'Drama', 'Horror'],\n",
       " ['Comedy', 'Romance'],\n",
       " ['Mystery', 'Romance', 'Sci-Fi'],\n",
       " ['Crime', 'Drama'],\n",
       " ['Drama', 'Horror', 'Mystery'],\n",
       " ['Comedy'],\n",
       " ['Biography', 'Drama'],\n",
       " ['Comedy', 'Drama', 'Thriller'],\n",
       " ['Drama', 'History', 'War'],\n",
       " ['Comedy', 'Drama'],\n",
       " ['Action', 'Comedy', 'Fantasy'],\n",
       " ['Drama', 'Horror', 'Musical'],\n",
       " ['Horror', 'Mystery', 'Thriller'],\n",
       " ['Comedy', 'Music'],\n",
       " ['Biography', 'Crime', 'Drama'],\n",
       " ['Drama'],\n",
       " ['Action', 'Adventure', 'Comedy'],\n",
       " ['Crime', 'Drama', 'Mystery'],\n",
       " ['Drama'],\n",
       " ['Action', 'Comedy', 'Crime'],\n",
       " ['Comedy', 'Drama', 'Romance'],\n",
       " ['Crime', 'Drama', 'Mystery'],\n",
       " ['Action', 'Comedy', 'Crime'],\n",
       " ['Drama'],\n",
       " ['Drama', 'Romance'],\n",
       " ['Crime', 'Drama', 'Mystery'],\n",
       " ['Adventure', 'Comedy', 'Romance'],\n",
       " ['Comedy', 'Crime', 'Drama'],\n",
       " ['Adventure', 'Drama', 'Thriller'],\n",
       " ['Crime', 'Drama', 'Thriller'],\n",
       " ['Drama', 'History', 'Thriller'],\n",
       " ['Action', 'Adventure', 'Sci-Fi'],\n",
       " ['Horror'],\n",
       " ['Action', 'Crime', 'Mystery'],\n",
       " ['Comedy', 'Romance'],\n",
       " ['Comedy'],\n",
       " ['Action', 'Drama', 'Thriller'],\n",
       " ['Action', 'Adventure', 'Sci-Fi'],\n",
       " ['Drama', 'Mystery', 'Thriller'],\n",
       " ['Comedy', 'Drama', 'Romance'],\n",
       " ['Action', 'Fantasy', 'Horror'],\n",
       " ['Drama', 'Romance'],\n",
       " ['Biography', 'Drama'],\n",
       " ['Biography', 'Drama'],\n",
       " ['Action', 'Adventure', 'Sci-Fi'],\n",
       " ['Animation', 'Adventure', 'Comedy'],\n",
       " ['Drama', 'Mystery', 'Thriller'],\n",
       " ['Action', 'Horror', 'Sci-Fi'],\n",
       " ['Drama', 'Romance'],\n",
       " ['Action', 'Adventure', 'Drama'],\n",
       " ['Adventure', 'Drama', 'Fantasy'],\n",
       " ['Drama', 'Romance', 'Sci-Fi'],\n",
       " ['Action', 'Adventure', 'Thriller'],\n",
       " ['Comedy', 'Fantasy'],\n",
       " ['Action', 'Comedy', 'Crime'],\n",
       " ['Adventure', 'Drama', 'Romance'],\n",
       " ['Action', 'Crime', 'Drama'],\n",
       " ['Comedy', 'Drama', 'Romance'],\n",
       " ['Crime', 'Drama'],\n",
       " ['Crime', 'Drama', 'Mystery'],\n",
       " ['Action', 'Adventure', 'Sci-Fi'],\n",
       " ['Animation', 'Fantasy'],\n",
       " ['Animation', 'Adventure', 'Comedy'],\n",
       " ['Drama', 'Mystery', 'War'],\n",
       " ['Comedy', 'Romance'],\n",
       " ['Animation', 'Comedy', 'Family'],\n",
       " ['Comedy'],\n",
       " ['Horror', 'Mystery', 'Thriller'],\n",
       " ['Action', 'Adventure', 'Drama'],\n",
       " ['Comedy'],\n",
       " ['Drama'],\n",
       " ['Adventure', 'Biography', 'Drama'],\n",
       " ['Comedy'],\n",
       " ['Horror', 'Thriller'],\n",
       " ['Action', 'Drama', 'Family'],\n",
       " ['Comedy', 'Fantasy', 'Horror'],\n",
       " ['Comedy', 'Romance'],\n",
       " ['Drama', 'Mystery', 'Romance'],\n",
       " ['Action', 'Adventure', 'Comedy'],\n",
       " ['Thriller'],\n",
       " ['Comedy'],\n",
       " ['Adventure', 'Comedy', 'Sci-Fi'],\n",
       " ['Mystery', 'Thriller'],\n",
       " ['Comedy', 'Drama'],\n",
       " ['Adventure', 'Drama', 'Family'],\n",
       " ['Horror', 'Thriller'],\n",
       " ['Action', 'Drama', 'Romance'],\n",
       " ['Drama', 'Romance'],\n",
       " ['Action', 'Adventure', 'Fantasy'],\n",
       " ['Comedy'],\n",
       " ['Action', 'Biography', 'Drama'],\n",
       " ['Drama', 'Mystery', 'Romance'],\n",
       " ['Adventure', 'Drama', 'Western'],\n",
       " ['Drama', 'Music', 'Romance'],\n",
       " ['Comedy', 'Romance', 'Western'],\n",
       " ['Horror', 'Thriller'],\n",
       " ['Adventure', 'Family', 'Fantasy'],\n",
       " ['Crime', 'Drama', 'Mystery'],\n",
       " ['Horror', 'Mystery'],\n",
       " ['Comedy', 'Crime', 'Drama'],\n",
       " ['Action', 'Comedy', 'Romance'],\n",
       " ['Action', 'Biography', 'Drama'],\n",
       " ['Drama', 'Music'],\n",
       " ['Comedy', 'Drama'],\n",
       " ['Drama', 'Thriller', 'War'],\n",
       " ['Action', 'Mystery', 'Thriller'],\n",
       " ['Horror', 'Sci-Fi', 'Thriller'],\n",
       " ['Comedy', 'Drama', 'Romance'],\n",
       " ['Action', 'Adventure', 'Fantasy'],\n",
       " ['Drama', 'Mystery', 'Romance'],\n",
       " ['Drama'],\n",
       " ['Action', 'Adventure', 'Thriller'],\n",
       " ['Animation', 'Action', 'Adventure'],\n",
       " ['Drama', 'Fantasy', 'Mystery'],\n",
       " ['Drama', 'Sci-Fi'],\n",
       " ['Animation', 'Adventure', 'Comedy'],\n",
       " ['Horror', 'Thriller'],\n",
       " ['Action', 'Mystery', 'Thriller'],\n",
       " ['Action', 'Mystery', 'Sci-Fi'],\n",
       " ['Crime', 'Drama', 'Thriller'],\n",
       " ['Comedy', 'Drama', 'Romance'],\n",
       " ['Biography', 'Drama', 'Thriller'],\n",
       " ['Action', 'Adventure', 'Family'],\n",
       " ['Animation', 'Comedy', 'Family'],\n",
       " ['Action', 'Crime', 'Drama'],\n",
       " ['Comedy'],\n",
       " ['Comedy', 'Crime', 'Thriller'],\n",
       " ['Comedy', 'Romance'],\n",
       " ['Animation', 'Comedy', 'Drama'],\n",
       " ['Action', 'Crime', 'Thriller'],\n",
       " ['Comedy', 'Romance'],\n",
       " ['Adventure', 'Biography', 'Drama'],\n",
       " ['Animation', 'Adventure', 'Comedy'],\n",
       " ['Crime', 'Drama', 'Mystery'],\n",
       " ['Action', 'Comedy', 'Sci-Fi'],\n",
       " ['Comedy', 'Crime'],\n",
       " ['Animation', 'Action', 'Adventure'],\n",
       " ['Action', 'Drama', 'Thriller'],\n",
       " ['Fantasy', 'Horror'],\n",
       " ['Crime', 'Drama', 'Thriller'],\n",
       " ['Action', 'Adventure', 'Fantasy'],\n",
       " ['Comedy', 'Drama', 'Romance'],\n",
       " ['Biography', 'Drama', 'Romance'],\n",
       " ['Action', 'Adventure', 'Comedy'],\n",
       " ['Horror', 'Thriller'],\n",
       " ['Horror', 'Mystery', 'Thriller'],\n",
       " ['Comedy', 'Romance'],\n",
       " ['Animation', 'Adventure', 'Comedy'],\n",
       " ['Crime', 'Drama', 'Mystery'],\n",
       " ['Adventure', 'Biography', 'Drama'],\n",
       " ['Horror', 'Mystery', 'Thriller'],\n",
       " ['Adventure', 'Fantasy', 'Mystery'],\n",
       " ['Action', 'Adventure', 'Sci-Fi'],\n",
       " ['Biography', 'Drama'],\n",
       " ['Comedy'],\n",
       " ['Drama', 'Sport'],\n",
       " ['Comedy', 'Family'],\n",
       " ['Drama', 'Romance'],\n",
       " ['Action', 'Adventure', 'Comedy'],\n",
       " ['Comedy'],\n",
       " ['Mystery', 'Romance', 'Thriller'],\n",
       " ['Crime', 'Drama'],\n",
       " ['Action', 'Comedy'],\n",
       " ['Comedy', 'Crime'],\n",
       " ['Drama', 'Thriller'],\n",
       " ['Drama'],\n",
       " ['Animation', 'Adventure', 'Comedy'],\n",
       " ['Action', 'Thriller'],\n",
       " ['Drama', 'Thriller'],\n",
       " ['Animation', 'Adventure', 'Comedy'],\n",
       " ['Crime', 'Drama', 'Mystery'],\n",
       " ['Biography', 'Drama', 'Sport'],\n",
       " ['Crime', 'Drama', 'Thriller'],\n",
       " ['Drama', 'Music'],\n",
       " ['Crime', 'Drama', 'Thriller'],\n",
       " ['Drama', 'Romance'],\n",
       " ['Animation', 'Action', 'Adventure'],\n",
       " ['Comedy', 'Drama'],\n",
       " ['Action', 'Adventure', 'Drama'],\n",
       " ['Biography', 'Crime', 'Drama'],\n",
       " ['Horror'],\n",
       " ['Biography', 'Drama', 'Mystery'],\n",
       " ['Drama', 'Romance'],\n",
       " ['Comedy', 'Family'],\n",
       " ['Drama'],\n",
       " ['Drama', 'Fantasy', 'Horror'],\n",
       " ['Drama', 'Romance'],\n",
       " ['Biography', 'Drama', 'History'],\n",
       " ['Comedy', 'Family'],\n",
       " ['Action', 'Adventure', 'Thriller'],\n",
       " ['Comedy', 'Drama'],\n",
       " ['Action', 'Adventure', 'Fantasy'],\n",
       " ['Action', 'Thriller'],\n",
       " ['Drama', 'Romance'],\n",
       " ['Comedy', 'Drama', 'Romance'],\n",
       " ['Drama', 'Horror', 'Sci-Fi'],\n",
       " ['Comedy', 'Horror', 'Romance'],\n",
       " ['Drama'],\n",
       " ['Action', 'Adventure', 'Sci-Fi'],\n",
       " ['Action', 'Adventure', 'Fantasy'],\n",
       " ['Action', 'Adventure', 'Drama'],\n",
       " ['Biography', 'Comedy', 'Drama'],\n",
       " ['Drama', 'Mystery', 'Romance'],\n",
       " ['Animation', 'Adventure', 'Comedy'],\n",
       " ['Drama', 'Romance', 'Sci-Fi'],\n",
       " ['Drama'],\n",
       " ['Drama', 'Fantasy'],\n",
       " ['Drama', 'Romance'],\n",
       " ['Comedy', 'Horror', 'Thriller'],\n",
       " ['Comedy', 'Drama', 'Romance'],\n",
       " ['Action', 'Drama', 'Family'],\n",
       " ['Comedy', 'Drama', 'Romance'],\n",
       " ['Action', 'Thriller', 'War'],\n",
       " ['Adventure', 'Comedy', 'Drama'],\n",
       " ['Comedy', 'Romance'],\n",
       " ['Comedy', 'Romance'],\n",
       " ['Comedy', 'Drama', 'Romance'],\n",
       " ['Action', 'Adventure', 'Crime'],\n",
       " ['Comedy', 'Romance'],\n",
       " ['Animation', 'Action', 'Adventure'],\n",
       " ['Action', 'Crime', 'Sci-Fi'],\n",
       " ['Comedy', 'Drama', 'Romance'],\n",
       " ['Crime', 'Thriller'],\n",
       " ['Comedy', 'Horror', 'Sci-Fi'],\n",
       " ['Drama', 'Thriller'],\n",
       " ['Drama', 'Fantasy', 'Horror'],\n",
       " ['Adventure', 'Drama', 'Family'],\n",
       " ['Mystery', 'Sci-Fi', 'Thriller'],\n",
       " ['Biography', 'Crime', 'Drama'],\n",
       " ['Drama', 'Fantasy', 'Horror'],\n",
       " ['Action', 'Adventure', 'Thriller'],\n",
       " ['Crime', 'Drama', 'Fantasy'],\n",
       " ['Adventure', 'Family', 'Fantasy'],\n",
       " ['Action', 'Adventure', 'Drama'],\n",
       " ['Action', 'Comedy', 'Horror'],\n",
       " ['Comedy', 'Drama', 'Family'],\n",
       " ['Action', 'Thriller'],\n",
       " ['Action', 'Adventure', 'Sci-Fi'],\n",
       " ['Adventure', 'Drama', 'Fantasy'],\n",
       " ['Drama'],\n",
       " ['Drama'],\n",
       " ['Comedy', 'Drama', 'Music'],\n",
       " ['Drama', 'Fantasy', 'Music'],\n",
       " ['Comedy', 'Horror'],\n",
       " ['Action', 'Comedy', 'Sport'],\n",
       " ['Horror'],\n",
       " ['Comedy', 'Drama'],\n",
       " ['Horror', 'Mystery'],\n",
       " ['Adventure', 'Drama', 'Fantasy'],\n",
       " ['Comedy', 'Romance'],\n",
       " ['Action', 'Sci-Fi', 'Thriller'],\n",
       " ['Crime', 'Drama'],\n",
       " ['Action', 'Adventure', 'Sci-Fi'],\n",
       " ['Adventure'],\n",
       " ['Comedy', 'Drama'],\n",
       " ['Comedy', 'Drama'],\n",
       " ['Comedy', 'Drama', 'Romance'],\n",
       " ['Adventure', 'Comedy', 'Drama'],\n",
       " ['Action', 'Sci-Fi', 'Thriller'],\n",
       " ['Comedy', 'Romance'],\n",
       " ['Action', 'Fantasy', 'Horror'],\n",
       " ['Crime', 'Drama', 'Thriller'],\n",
       " ['Action', 'Drama', 'Thriller'],\n",
       " ['Crime', 'Drama', 'Mystery'],\n",
       " ['Crime', 'Drama', 'Mystery'],\n",
       " ['Drama', 'Sci-Fi', 'Thriller'],\n",
       " ['Biography', 'Drama', 'History'],\n",
       " ['Crime', 'Horror', 'Thriller'],\n",
       " ['Horror', 'Thriller'],\n",
       " ['Comedy', 'Drama', 'Musical'],\n",
       " ['Horror', 'Mystery'],\n",
       " ['Biography', 'Drama', 'Sport'],\n",
       " ['Comedy', 'Family', 'Romance'],\n",
       " ['Drama', 'Thriller'],\n",
       " ['Biography', 'Drama', 'Family'],\n",
       " ['Comedy', 'Drama', 'Family'],\n",
       " ['Drama', 'Fantasy', 'Musical'],\n",
       " ['Comedy'],\n",
       " ['Adventure', 'Family'],\n",
       " ['Adventure', 'Comedy', 'Fantasy'],\n",
       " ['Horror', 'Thriller'],\n",
       " ['Drama', 'Romance'],\n",
       " ['Action', 'Adventure', 'Fantasy'],\n",
       " ['Drama', 'Family', 'Music'],\n",
       " ['Action', 'Adventure', 'Horror'],\n",
       " ['Comedy'],\n",
       " ['Horror'],\n",
       " ['Drama', 'Music', 'Romance'],\n",
       " ['Comedy', 'Family', 'Fantasy']]"
      ]
     },
     "execution_count": 202,
     "metadata": {},
     "output_type": "execute_result"
    }
   ],
   "source": [
    "list1"
   ]
  },
  {
   "cell_type": "code",
   "execution_count": 203,
   "metadata": {},
   "outputs": [],
   "source": [
    "one_d=[]\n",
    "for item in list1:\n",
    "    for item1 in item:\n",
    "        one_d.append(item1)"
   ]
  },
  {
   "cell_type": "code",
   "execution_count": 204,
   "metadata": {},
   "outputs": [
    {
     "data": {
      "text/plain": [
       "Counter({'Drama': 419,\n",
       "         'Action': 277,\n",
       "         'Comedy': 250,\n",
       "         'Adventure': 244,\n",
       "         'Thriller': 148,\n",
       "         'Crime': 126,\n",
       "         'Romance': 120,\n",
       "         'Sci-Fi': 107,\n",
       "         'Fantasy': 92,\n",
       "         'Horror': 87,\n",
       "         'Mystery': 86,\n",
       "         'Biography': 67,\n",
       "         'Family': 48,\n",
       "         'Animation': 45,\n",
       "         'History': 25,\n",
       "         'Music': 15,\n",
       "         'Sport': 15,\n",
       "         'War': 10,\n",
       "         'Musical': 5,\n",
       "         'Western': 4})"
      ]
     },
     "execution_count": 204,
     "metadata": {},
     "output_type": "execute_result"
    }
   ],
   "source": [
    "Counter(one_d)"
   ]
  },
  {
   "cell_type": "markdown",
   "metadata": {},
   "source": [
    "# 24. Year wise Revenue"
   ]
  },
  {
   "cell_type": "code",
   "execution_count": 205,
   "metadata": {},
   "outputs": [],
   "source": [
    "df = data "
   ]
  },
  {
   "cell_type": "code",
   "execution_count": 206,
   "metadata": {},
   "outputs": [
    {
     "data": {
      "text/plain": [
       "Year\n",
       "2006     3577.48\n",
       "2007     4095.26\n",
       "2008     4681.22\n",
       "2009     5208.39\n",
       "2010     5989.65\n",
       "2011     5341.09\n",
       "2012     6826.39\n",
       "2013     7399.11\n",
       "2014     7945.33\n",
       "2015     8799.09\n",
       "2016    11002.09\n",
       "Name: Revenue (Millions), dtype: float64"
      ]
     },
     "execution_count": 206,
     "metadata": {},
     "output_type": "execute_result"
    }
   ],
   "source": [
    "df6 = df.groupby('Year')['Revenue (Millions)'].sum()\n",
    "df6"
   ]
  },
  {
   "cell_type": "code",
   "execution_count": 207,
   "metadata": {},
   "outputs": [
    {
     "data": {
      "image/png": "[encoded data removed]",
      "text/plain": [
       "<Figure size 640x480 with 1 Axes>"
      ]
     },
     "metadata": {},
     "output_type": "display_data"
    }
   ],
   "source": [
    "df6.plot(kind = 'line')\n",
    "plt.ylabel('Total Rev in Millions')\n",
    "plt.show()"
   ]
  },
  {
   "cell_type": "markdown",
   "metadata": {},
   "source": [
    "# 25. Top 5 Genre"
   ]
  },
  {
   "cell_type": "code",
   "execution_count": 208,
   "metadata": {},
   "outputs": [
    {
     "data": {
      "text/plain": [
       "Genre\n",
       "Action,Adventure,Sci-Fi       10461.51\n",
       "Animation,Adventure,Comedy     5754.75\n",
       "Action,Adventure,Fantasy       5227.02\n",
       "Adventure,Family,Fantasy       2201.47\n",
       "Comedy                         1941.81\n",
       "Name: Revenue (Millions), dtype: float64"
      ]
     },
     "execution_count": 208,
     "metadata": {},
     "output_type": "execute_result"
    }
   ],
   "source": [
    "df7 = df.groupby('Genre')['Revenue (Millions)'].sum().sort_values(ascending =False).head(5)\n",
    "df7"
   ]
  },
  {
   "cell_type": "code",
   "execution_count": 209,
   "metadata": {},
   "outputs": [
    {
     "data": {
      "image/png": "[encoded data removed]",
      "text/plain": [
       "<Figure size 640x480 with 1 Axes>"
      ]
     },
     "metadata": {},
     "output_type": "display_data"
    }
   ],
   "source": [
    "df7.plot(kind = 'pie', autopct = '%1.2f%%')\n",
    "plt.ylabel(None)\n",
    "plt.show()"
   ]
  },
  {
   "cell_type": "markdown",
   "metadata": {},
   "source": [
    "### 26. Overall Rating Distribution"
   ]
  },
  {
   "cell_type": "code",
   "execution_count": 230,
   "metadata": {},
   "outputs": [
    {
     "data": {
      "image/png": "[encoded data removed]",
      "text/plain": [
       "<Figure size 800x500 with 1 Axes>"
      ]
     },
     "metadata": {},
     "output_type": "display_data"
    }
   ],
   "source": [
    "plt.figure(figsize=(8,5))\n",
    "sns.histplot(x = 'Rating', data =df, kde = True, hue = 'rating_cat')\n",
    "plt.show()"
   ]
  },
  {
   "cell_type": "markdown",
   "metadata": {},
   "source": [
    "### 27. Year & rating category wise No of movies "
   ]
  },
  {
   "cell_type": "code",
   "execution_count": 235,
   "metadata": {},
   "outputs": [
    {
     "data": {
      "image/png": "[encoded data removed]",
      "text/plain": [
       "<Figure size 640x480 with 1 Axes>"
      ]
     },
     "metadata": {},
     "output_type": "display_data"
    }
   ],
   "source": [
    "sns.countplot(x = 'Year', data =df, hue = 'rating_cat', palette = 'husl')\n",
    "plt.show()"
   ]
  },
  {
   "cell_type": "code",
   "execution_count": null,
   "metadata": {},
   "outputs": [],
   "source": []
  }
 ],
 "metadata": {
  "kernelspec": {
   "display_name": "Python 3 (ipykernel)",
   "language": "python",
   "name": "python3"
  },
  "language_info": {
   "codemirror_mode": {
    "name": "ipython",
    "version": 3
   },
   "file_extension": ".py",
   "mimetype": "text/x-python",
   "name": "python",
   "nbconvert_exporter": "python",
   "pygments_lexer": "ipython3",
   "version": "3.11.7"
  }
 },
 "nbformat": 4,
 "nbformat_minor": 4
}
